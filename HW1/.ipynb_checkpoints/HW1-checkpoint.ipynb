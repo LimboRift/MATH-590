{
 "cells": [
  {
   "cell_type": "markdown",
   "metadata": {},
   "source": [
    "# 1"
   ]
  },
  {
   "cell_type": "markdown",
   "metadata": {},
   "source": [
    "# (a)."
   ]
  },
  {
   "cell_type": "code",
   "execution_count": 22,
   "metadata": {
    "collapsed": true
   },
   "outputs": [
    {
     "name": "stdout",
     "output_type": "stream",
     "text": [
      "package 'reshape' successfully unpacked and MD5 sums checked\n",
      "\n",
      "The downloaded binary packages are in\n",
      "\tC:\\Users\\DELL\\AppData\\Local\\Temp\\RtmpM5e3XH\\downloaded_packages\n"
     ]
    },
    {
     "name": "stderr",
     "output_type": "stream",
     "text": [
      "Warning message:\n",
      "\"package 'reshape' was built under R version 3.6.2\"\n",
      "Attaching package: 'reshape'\n",
      "\n",
      "The following object is masked from 'package:dplyr':\n",
      "\n",
      "    rename\n",
      "\n",
      "The following objects are masked from 'package:tidyr':\n",
      "\n",
      "    expand, smiths\n",
      "\n"
     ]
    }
   ],
   "source": [
    "library(tidyverse)\n",
    "library(nycflights13)\n",
    "library(ggplot2)\n",
    "library(gridExtra)\n",
    "library(grid)\n",
    "library(reshape)"
   ]
  },
  {
   "cell_type": "code",
   "execution_count": 2,
   "metadata": {
    "collapsed": true
   },
   "outputs": [
    {
     "name": "stderr",
     "output_type": "stream",
     "text": [
      "Parsed with column specification:\n",
      "cols(\n",
      "  ensgene = col_character(),\n",
      "  SRR1039508 = col_double(),\n",
      "  SRR1039509 = col_double(),\n",
      "  SRR1039512 = col_double(),\n",
      "  SRR1039513 = col_double(),\n",
      "  SRR1039516 = col_double(),\n",
      "  SRR1039517 = col_double(),\n",
      "  SRR1039520 = col_double(),\n",
      "  SRR1039521 = col_double()\n",
      ")\n",
      "Parsed with column specification:\n",
      "cols(\n",
      "  x = col_character()\n",
      ")\n",
      "Parsed with column specification:\n",
      "cols(\n",
      "  Run = col_character(),\n",
      "  avgLength = col_double(),\n",
      "  Experiment = col_character(),\n",
      "  BioSample = col_character(),\n",
      "  sample = col_character()\n",
      ")\n",
      "Parsed with column specification:\n",
      "cols(\n",
      "  Sample = col_character(),\n",
      "  Treatment = col_character(),\n",
      "  Cell_type = col_character()\n",
      ")\n"
     ]
    }
   ],
   "source": [
    "count = as_tibble(read_csv(\"count.csv\"))\n",
    "mrna = as_tibble(read_csv(\"mRNA.csv\"))\n",
    "run_info = as_tibble(read_csv(\"Run_Info.csv\"))\n",
    "treatment_info = as_tibble(read_csv(\"Treatment_Info.csv\"))"
   ]
  },
  {
   "cell_type": "code",
   "execution_count": 4,
   "metadata": {
    "scrolled": false
   },
   "outputs": [
    {
     "data": {
      "text/html": [
       "<table>\n",
       "<thead><tr><th scope=col>ensgene</th><th scope=col>n</th></tr></thead>\n",
       "<tbody>\n",
       "</tbody>\n",
       "</table>\n"
      ],
      "text/latex": [
       "\\begin{tabular}{r|ll}\n",
       " ensgene & n\\\\\n",
       "\\hline\n",
       "\\end{tabular}\n"
      ],
      "text/markdown": [
       "\n",
       "| ensgene | n |\n",
       "|---|---|\n",
       "\n"
      ],
      "text/plain": [
       "     ensgene n"
      ]
     },
     "metadata": {},
     "output_type": "display_data"
    },
    {
     "data": {
      "text/html": [
       "<table>\n",
       "<thead><tr><th scope=col>x</th><th scope=col>n</th></tr></thead>\n",
       "<tbody>\n",
       "</tbody>\n",
       "</table>\n"
      ],
      "text/latex": [
       "\\begin{tabular}{r|ll}\n",
       " x & n\\\\\n",
       "\\hline\n",
       "\\end{tabular}\n"
      ],
      "text/markdown": [
       "\n",
       "| x | n |\n",
       "|---|---|\n",
       "\n"
      ],
      "text/plain": [
       "     x n"
      ]
     },
     "metadata": {},
     "output_type": "display_data"
    },
    {
     "data": {
      "text/html": [
       "<table>\n",
       "<thead><tr><th scope=col>Run</th><th scope=col>n</th></tr></thead>\n",
       "<tbody>\n",
       "</tbody>\n",
       "</table>\n"
      ],
      "text/latex": [
       "\\begin{tabular}{r|ll}\n",
       " Run & n\\\\\n",
       "\\hline\n",
       "\\end{tabular}\n"
      ],
      "text/markdown": [
       "\n",
       "| Run | n |\n",
       "|---|---|\n",
       "\n"
      ],
      "text/plain": [
       "     Run n"
      ]
     },
     "metadata": {},
     "output_type": "display_data"
    },
    {
     "data": {
      "text/html": [
       "<table>\n",
       "<thead><tr><th scope=col>Sample</th><th scope=col>n</th></tr></thead>\n",
       "<tbody>\n",
       "</tbody>\n",
       "</table>\n"
      ],
      "text/latex": [
       "\\begin{tabular}{r|ll}\n",
       " Sample & n\\\\\n",
       "\\hline\n",
       "\\end{tabular}\n"
      ],
      "text/markdown": [
       "\n",
       "| Sample | n |\n",
       "|---|---|\n",
       "\n"
      ],
      "text/plain": [
       "     Sample n"
      ]
     },
     "metadata": {},
     "output_type": "display_data"
    }
   ],
   "source": [
    "#show that these keys uniquely identifies observations in these datasets:\n",
    "count %>% count(ensgene) %>% filter(n > 1)\n",
    "mrna %>% count(x) %>% filter(n > 1)\n",
    "run_info %>% count(Run) %>% filter(n > 1)\n",
    "treatment_info %>% count(Sample) %>% filter(n > 1)"
   ]
  },
  {
   "cell_type": "markdown",
   "metadata": {},
   "source": [
    "# (b)."
   ]
  },
  {
   "cell_type": "code",
   "execution_count": 5,
   "metadata": {
    "scrolled": true
   },
   "outputs": [
    {
     "data": {
      "text/html": [
       "16"
      ],
      "text/latex": [
       "16"
      ],
      "text/markdown": [
       "16"
      ],
      "text/plain": [
       "[1] 16"
      ]
     },
     "metadata": {},
     "output_type": "display_data"
    },
    {
     "data": {
      "text/html": [
       "16"
      ],
      "text/latex": [
       "16"
      ],
      "text/markdown": [
       "16"
      ],
      "text/plain": [
       "[1] 16"
      ]
     },
     "metadata": {},
     "output_type": "display_data"
    }
   ],
   "source": [
    "nrow(run_info)\n",
    "nrow(treatment_info)"
   ]
  },
  {
   "cell_type": "code",
   "execution_count": 6,
   "metadata": {},
   "outputs": [
    {
     "data": {
      "text/html": [
       "<table>\n",
       "<thead><tr><th scope=col>Run</th><th scope=col>avgLength</th><th scope=col>Experiment</th><th scope=col>BioSample</th><th scope=col>sample</th><th scope=col>Treatment</th><th scope=col>Cell_type</th></tr></thead>\n",
       "<tbody>\n",
       "\t<tr><td>SRR1039508             </td><td>126                    </td><td>SRX384345              </td><td>SAMN02422669           </td><td>GSM1275862             </td><td>Untreated              </td><td>N61311                 </td></tr>\n",
       "\t<tr><td>SRR1039509             </td><td>126                    </td><td>SRX384346              </td><td>SAMN02422675           </td><td>GSM1275863             </td><td>Dexamethasone          </td><td>N61311                 </td></tr>\n",
       "\t<tr><td>SRR1039510             </td><td>126                    </td><td>SRX384347              </td><td>SAMN02422668           </td><td>GSM1275864             </td><td>Albuterol              </td><td>N61311                 </td></tr>\n",
       "\t<tr><td>SRR1039511             </td><td>126                    </td><td>SRX384348              </td><td>SAMN02422667           </td><td>GSM1275865             </td><td>Albuterol_Dexamethasone</td><td>N61311                 </td></tr>\n",
       "\t<tr><td>SRR1039512             </td><td>126                    </td><td>SRX384349              </td><td>SAMN02422678           </td><td>GSM1275866             </td><td>Untreated              </td><td>N052611                </td></tr>\n",
       "\t<tr><td>SRR1039513             </td><td> 87                    </td><td>SRX384350              </td><td>SAMN02422670           </td><td>GSM1275867             </td><td>Dexamethasone          </td><td>N052611                </td></tr>\n",
       "\t<tr><td>SRR1039514             </td><td>126                    </td><td>SRX384351              </td><td>SAMN02422681           </td><td>GSM1275868             </td><td>Albuterol              </td><td>N052611                </td></tr>\n",
       "\t<tr><td>SRR1039515             </td><td>114                    </td><td>SRX384352              </td><td>SAMN02422671           </td><td>GSM1275869             </td><td>Albuterol_Dexamethasone</td><td>N052611                </td></tr>\n",
       "\t<tr><td>SRR1039516             </td><td>120                    </td><td>SRX384353              </td><td>SAMN02422682           </td><td>GSM1275870             </td><td>Untreated              </td><td>N080611                </td></tr>\n",
       "\t<tr><td>SRR1039517             </td><td>126                    </td><td>SRX384354              </td><td>SAMN02422673           </td><td>GSM1275871             </td><td>Dexamethasone          </td><td>N080611                </td></tr>\n",
       "\t<tr><td>SRR1039518             </td><td>126                    </td><td>SRX384355              </td><td>SAMN02422679           </td><td>GSM1275872             </td><td>Albuterol              </td><td>N080611                </td></tr>\n",
       "\t<tr><td>SRR1039519             </td><td>107                    </td><td>SRX384356              </td><td>SAMN02422672           </td><td>GSM1275873             </td><td>Albuterol_Dexamethasone</td><td>N080611                </td></tr>\n",
       "\t<tr><td>SRR1039520             </td><td>101                    </td><td>SRX384357              </td><td>SAMN02422683           </td><td>GSM1275874             </td><td>Untreated              </td><td>N061011                </td></tr>\n",
       "\t<tr><td>SRR1039521             </td><td> 98                    </td><td>SRX384358              </td><td>SAMN02422677           </td><td>GSM1275875             </td><td>Dexamethasone          </td><td>N061011                </td></tr>\n",
       "\t<tr><td>SRR1039522             </td><td>125                    </td><td>SRX384359              </td><td>SAMN02422680           </td><td>GSM1275876             </td><td>Albuterol              </td><td>N061011                </td></tr>\n",
       "\t<tr><td>SRR1039523             </td><td>126                    </td><td>SRX384360              </td><td>SAMN02422674           </td><td>GSM1275877             </td><td>Albuterol_Dexamethasone</td><td>N061011                </td></tr>\n",
       "</tbody>\n",
       "</table>\n"
      ],
      "text/latex": [
       "\\begin{tabular}{r|lllllll}\n",
       " Run & avgLength & Experiment & BioSample & sample & Treatment & Cell\\_type\\\\\n",
       "\\hline\n",
       "\t SRR1039508              & 126                     & SRX384345               & SAMN02422669            & GSM1275862              & Untreated               & N61311                 \\\\\n",
       "\t SRR1039509              & 126                     & SRX384346               & SAMN02422675            & GSM1275863              & Dexamethasone           & N61311                 \\\\\n",
       "\t SRR1039510              & 126                     & SRX384347               & SAMN02422668            & GSM1275864              & Albuterol               & N61311                 \\\\\n",
       "\t SRR1039511                & 126                       & SRX384348                 & SAMN02422667              & GSM1275865                & Albuterol\\_Dexamethasone & N61311                   \\\\\n",
       "\t SRR1039512              & 126                     & SRX384349               & SAMN02422678            & GSM1275866              & Untreated               & N052611                \\\\\n",
       "\t SRR1039513              &  87                     & SRX384350               & SAMN02422670            & GSM1275867              & Dexamethasone           & N052611                \\\\\n",
       "\t SRR1039514              & 126                     & SRX384351               & SAMN02422681            & GSM1275868              & Albuterol               & N052611                \\\\\n",
       "\t SRR1039515                & 114                       & SRX384352                 & SAMN02422671              & GSM1275869                & Albuterol\\_Dexamethasone & N052611                  \\\\\n",
       "\t SRR1039516              & 120                     & SRX384353               & SAMN02422682            & GSM1275870              & Untreated               & N080611                \\\\\n",
       "\t SRR1039517              & 126                     & SRX384354               & SAMN02422673            & GSM1275871              & Dexamethasone           & N080611                \\\\\n",
       "\t SRR1039518              & 126                     & SRX384355               & SAMN02422679            & GSM1275872              & Albuterol               & N080611                \\\\\n",
       "\t SRR1039519                & 107                       & SRX384356                 & SAMN02422672              & GSM1275873                & Albuterol\\_Dexamethasone & N080611                  \\\\\n",
       "\t SRR1039520              & 101                     & SRX384357               & SAMN02422683            & GSM1275874              & Untreated               & N061011                \\\\\n",
       "\t SRR1039521              &  98                     & SRX384358               & SAMN02422677            & GSM1275875              & Dexamethasone           & N061011                \\\\\n",
       "\t SRR1039522              & 125                     & SRX384359               & SAMN02422680            & GSM1275876              & Albuterol               & N061011                \\\\\n",
       "\t SRR1039523                & 126                       & SRX384360                 & SAMN02422674              & GSM1275877                & Albuterol\\_Dexamethasone & N061011                  \\\\\n",
       "\\end{tabular}\n"
      ],
      "text/markdown": [
       "\n",
       "| Run | avgLength | Experiment | BioSample | sample | Treatment | Cell_type |\n",
       "|---|---|---|---|---|---|---|\n",
       "| SRR1039508              | 126                     | SRX384345               | SAMN02422669            | GSM1275862              | Untreated               | N61311                  |\n",
       "| SRR1039509              | 126                     | SRX384346               | SAMN02422675            | GSM1275863              | Dexamethasone           | N61311                  |\n",
       "| SRR1039510              | 126                     | SRX384347               | SAMN02422668            | GSM1275864              | Albuterol               | N61311                  |\n",
       "| SRR1039511              | 126                     | SRX384348               | SAMN02422667            | GSM1275865              | Albuterol_Dexamethasone | N61311                  |\n",
       "| SRR1039512              | 126                     | SRX384349               | SAMN02422678            | GSM1275866              | Untreated               | N052611                 |\n",
       "| SRR1039513              |  87                     | SRX384350               | SAMN02422670            | GSM1275867              | Dexamethasone           | N052611                 |\n",
       "| SRR1039514              | 126                     | SRX384351               | SAMN02422681            | GSM1275868              | Albuterol               | N052611                 |\n",
       "| SRR1039515              | 114                     | SRX384352               | SAMN02422671            | GSM1275869              | Albuterol_Dexamethasone | N052611                 |\n",
       "| SRR1039516              | 120                     | SRX384353               | SAMN02422682            | GSM1275870              | Untreated               | N080611                 |\n",
       "| SRR1039517              | 126                     | SRX384354               | SAMN02422673            | GSM1275871              | Dexamethasone           | N080611                 |\n",
       "| SRR1039518              | 126                     | SRX384355               | SAMN02422679            | GSM1275872              | Albuterol               | N080611                 |\n",
       "| SRR1039519              | 107                     | SRX384356               | SAMN02422672            | GSM1275873              | Albuterol_Dexamethasone | N080611                 |\n",
       "| SRR1039520              | 101                     | SRX384357               | SAMN02422683            | GSM1275874              | Untreated               | N061011                 |\n",
       "| SRR1039521              |  98                     | SRX384358               | SAMN02422677            | GSM1275875              | Dexamethasone           | N061011                 |\n",
       "| SRR1039522              | 125                     | SRX384359               | SAMN02422680            | GSM1275876              | Albuterol               | N061011                 |\n",
       "| SRR1039523              | 126                     | SRX384360               | SAMN02422674            | GSM1275877              | Albuterol_Dexamethasone | N061011                 |\n",
       "\n"
      ],
      "text/plain": [
       "   Run        avgLength Experiment BioSample    sample    \n",
       "1  SRR1039508 126       SRX384345  SAMN02422669 GSM1275862\n",
       "2  SRR1039509 126       SRX384346  SAMN02422675 GSM1275863\n",
       "3  SRR1039510 126       SRX384347  SAMN02422668 GSM1275864\n",
       "4  SRR1039511 126       SRX384348  SAMN02422667 GSM1275865\n",
       "5  SRR1039512 126       SRX384349  SAMN02422678 GSM1275866\n",
       "6  SRR1039513  87       SRX384350  SAMN02422670 GSM1275867\n",
       "7  SRR1039514 126       SRX384351  SAMN02422681 GSM1275868\n",
       "8  SRR1039515 114       SRX384352  SAMN02422671 GSM1275869\n",
       "9  SRR1039516 120       SRX384353  SAMN02422682 GSM1275870\n",
       "10 SRR1039517 126       SRX384354  SAMN02422673 GSM1275871\n",
       "11 SRR1039518 126       SRX384355  SAMN02422679 GSM1275872\n",
       "12 SRR1039519 107       SRX384356  SAMN02422672 GSM1275873\n",
       "13 SRR1039520 101       SRX384357  SAMN02422683 GSM1275874\n",
       "14 SRR1039521  98       SRX384358  SAMN02422677 GSM1275875\n",
       "15 SRR1039522 125       SRX384359  SAMN02422680 GSM1275876\n",
       "16 SRR1039523 126       SRX384360  SAMN02422674 GSM1275877\n",
       "   Treatment               Cell_type\n",
       "1  Untreated               N61311   \n",
       "2  Dexamethasone           N61311   \n",
       "3  Albuterol               N61311   \n",
       "4  Albuterol_Dexamethasone N61311   \n",
       "5  Untreated               N052611  \n",
       "6  Dexamethasone           N052611  \n",
       "7  Albuterol               N052611  \n",
       "8  Albuterol_Dexamethasone N052611  \n",
       "9  Untreated               N080611  \n",
       "10 Dexamethasone           N080611  \n",
       "11 Albuterol               N080611  \n",
       "12 Albuterol_Dexamethasone N080611  \n",
       "13 Untreated               N061011  \n",
       "14 Dexamethasone           N061011  \n",
       "15 Albuterol               N061011  \n",
       "16 Albuterol_Dexamethasone N061011  "
      ]
     },
     "metadata": {},
     "output_type": "display_data"
    }
   ],
   "source": [
    "colnames(treatment_info)[1] = 'sample'\n",
    "metadata = as_tibble(full_join(run_info, treatment_info, by = 'sample'))\n",
    "metadata"
   ]
  },
  {
   "cell_type": "markdown",
   "metadata": {},
   "source": [
    "# (c)."
   ]
  },
  {
   "cell_type": "markdown",
   "metadata": {},
   "source": [
    "<b> Pipe that computes the mean of the average length by treatment type and by cell type"
   ]
  },
  {
   "cell_type": "code",
   "execution_count": 7,
   "metadata": {},
   "outputs": [
    {
     "data": {
      "text/html": [
       "<table>\n",
       "<thead><tr><th scope=col>Treatment</th><th scope=col>mean</th></tr></thead>\n",
       "<tbody>\n",
       "\t<tr><td>Albuterol              </td><td>125.75                 </td></tr>\n",
       "\t<tr><td>Albuterol_Dexamethasone</td><td>118.25                 </td></tr>\n",
       "\t<tr><td>Dexamethasone          </td><td>109.25                 </td></tr>\n",
       "\t<tr><td>Untreated              </td><td>118.25                 </td></tr>\n",
       "</tbody>\n",
       "</table>\n"
      ],
      "text/latex": [
       "\\begin{tabular}{r|ll}\n",
       " Treatment & mean\\\\\n",
       "\\hline\n",
       "\t Albuterol               & 125.75                 \\\\\n",
       "\t Albuterol\\_Dexamethasone & 118.25                   \\\\\n",
       "\t Dexamethasone           & 109.25                 \\\\\n",
       "\t Untreated               & 118.25                 \\\\\n",
       "\\end{tabular}\n"
      ],
      "text/markdown": [
       "\n",
       "| Treatment | mean |\n",
       "|---|---|\n",
       "| Albuterol               | 125.75                  |\n",
       "| Albuterol_Dexamethasone | 118.25                  |\n",
       "| Dexamethasone           | 109.25                  |\n",
       "| Untreated               | 118.25                  |\n",
       "\n"
      ],
      "text/plain": [
       "  Treatment               mean  \n",
       "1 Albuterol               125.75\n",
       "2 Albuterol_Dexamethasone 118.25\n",
       "3 Dexamethasone           109.25\n",
       "4 Untreated               118.25"
      ]
     },
     "metadata": {},
     "output_type": "display_data"
    }
   ],
   "source": [
    "metadata %>% \n",
    "    group_by(Treatment) %>%\n",
    "    summarise(mean = mean(avgLength, na.rm = TRUE))"
   ]
  },
  {
   "cell_type": "code",
   "execution_count": 8,
   "metadata": {},
   "outputs": [
    {
     "data": {
      "text/html": [
       "<table>\n",
       "<thead><tr><th scope=col>Cell_type</th><th scope=col>mean</th></tr></thead>\n",
       "<tbody>\n",
       "\t<tr><td>N052611</td><td>113.25 </td></tr>\n",
       "\t<tr><td>N061011</td><td>112.50 </td></tr>\n",
       "\t<tr><td>N080611</td><td>119.75 </td></tr>\n",
       "\t<tr><td>N61311 </td><td>126.00 </td></tr>\n",
       "</tbody>\n",
       "</table>\n"
      ],
      "text/latex": [
       "\\begin{tabular}{r|ll}\n",
       " Cell\\_type & mean\\\\\n",
       "\\hline\n",
       "\t N052611 & 113.25 \\\\\n",
       "\t N061011 & 112.50 \\\\\n",
       "\t N080611 & 119.75 \\\\\n",
       "\t N61311  & 126.00 \\\\\n",
       "\\end{tabular}\n"
      ],
      "text/markdown": [
       "\n",
       "| Cell_type | mean |\n",
       "|---|---|\n",
       "| N052611 | 113.25  |\n",
       "| N061011 | 112.50  |\n",
       "| N080611 | 119.75  |\n",
       "| N61311  | 126.00  |\n",
       "\n"
      ],
      "text/plain": [
       "  Cell_type mean  \n",
       "1 N052611   113.25\n",
       "2 N061011   112.50\n",
       "3 N080611   119.75\n",
       "4 N61311    126.00"
      ]
     },
     "metadata": {},
     "output_type": "display_data"
    }
   ],
   "source": [
    "metadata %>% \n",
    "    group_by(Cell_type) %>%\n",
    "    summarise(mean = mean(avgLength, na.rm = TRUE))"
   ]
  },
  {
   "cell_type": "markdown",
   "metadata": {},
   "source": [
    "<b> Plot the average length by treatment type or average length by cell type"
   ]
  },
  {
   "cell_type": "code",
   "execution_count": 84,
   "metadata": {},
   "outputs": [
    {
     "data": {
      "image/png": "[encoded data removed]",
      "text/plain": [
       "plot without title"
      ]
     },
     "metadata": {},
     "output_type": "display_data"
    }
   ],
   "source": [
    "options(repr.plot.width=7,repr.plot.height=3)\n",
    "theme_update(plot.title = element_text(hjust = 0.5,size=8))\n",
    "p1 = ggplot(data = metadata, aes(x = Treatment , y = avgLength))+geom_jitter(width = .5,height = 0,aes(colour = Treatment))+ggtitle('Average length by treatment type')\n",
    "p2 = ggplot(data = metadata, aes(x = Cell_type , y = avgLength))+geom_jitter(width = .5,height = 0,aes(colour = Cell_type))+ggtitle('Average length by cell type')\n",
    "grid.arrange(p1, p2, nrow = 1, top = textGrob('Average length by treatment type and cell type',gp=gpar(fontsize=20,font=1)))"
   ]
  },
  {
   "cell_type": "markdown",
   "metadata": {},
   "source": [
    "# (d)."
   ]
  },
  {
   "cell_type": "code",
   "execution_count": 104,
   "metadata": {
    "scrolled": false
   },
   "outputs": [
    {
     "data": {
      "text/html": [
       "<ol class=list-inline>\n",
       "\t<li>309552</li>\n",
       "\t<li>9</li>\n",
       "</ol>\n"
      ],
      "text/latex": [
       "\\begin{enumerate*}\n",
       "\\item 309552\n",
       "\\item 9\n",
       "\\end{enumerate*}\n"
      ],
      "text/markdown": [
       "1. 309552\n",
       "2. 9\n",
       "\n",
       "\n"
      ],
      "text/plain": [
       "[1] 309552      9"
      ]
     },
     "metadata": {},
     "output_type": "display_data"
    },
    {
     "data": {
      "text/html": [
       "<table>\n",
       "<thead><tr><th scope=col>ensgene</th><th scope=col>Run</th><th scope=col>value</th><th scope=col>avgLength</th><th scope=col>Experiment</th><th scope=col>BioSample</th><th scope=col>sample</th><th scope=col>Treatment</th><th scope=col>Cell_type</th></tr></thead>\n",
       "<tbody>\n",
       "\t<tr><td>ENSG00000000003</td><td>SRR1039508     </td><td> 723           </td><td>126            </td><td>SRX384345      </td><td>SAMN02422669   </td><td>GSM1275862     </td><td>Untreated      </td><td>N61311         </td></tr>\n",
       "\t<tr><td>ENSG00000000003</td><td>SRR1039509     </td><td> 486           </td><td>126            </td><td>SRX384346      </td><td>SAMN02422675   </td><td>GSM1275863     </td><td>Dexamethasone  </td><td>N61311         </td></tr>\n",
       "\t<tr><td>ENSG00000000003</td><td>SRR1039512     </td><td> 904           </td><td>126            </td><td>SRX384349      </td><td>SAMN02422678   </td><td>GSM1275866     </td><td>Untreated      </td><td>N052611        </td></tr>\n",
       "\t<tr><td>ENSG00000000003</td><td>SRR1039513     </td><td> 445           </td><td> 87            </td><td>SRX384350      </td><td>SAMN02422670   </td><td>GSM1275867     </td><td>Dexamethasone  </td><td>N052611        </td></tr>\n",
       "\t<tr><td>ENSG00000000003</td><td>SRR1039516     </td><td>1170           </td><td>120            </td><td>SRX384353      </td><td>SAMN02422682   </td><td>GSM1275870     </td><td>Untreated      </td><td>N080611        </td></tr>\n",
       "\t<tr><td>ENSG00000000003</td><td>SRR1039517     </td><td>1097           </td><td>126            </td><td>SRX384354      </td><td>SAMN02422673   </td><td>GSM1275871     </td><td>Dexamethasone  </td><td>N080611        </td></tr>\n",
       "\t<tr><td>ENSG00000000003</td><td>SRR1039520     </td><td> 806           </td><td>101            </td><td>SRX384357      </td><td>SAMN02422683   </td><td>GSM1275874     </td><td>Untreated      </td><td>N061011        </td></tr>\n",
       "\t<tr><td>ENSG00000000003</td><td>SRR1039521     </td><td> 604           </td><td> 98            </td><td>SRX384358      </td><td>SAMN02422677   </td><td>GSM1275875     </td><td>Dexamethasone  </td><td>N061011        </td></tr>\n",
       "\t<tr><td>ENSG00000000005</td><td>SRR1039508     </td><td>   0           </td><td>126            </td><td>SRX384345      </td><td>SAMN02422669   </td><td>GSM1275862     </td><td>Untreated      </td><td>N61311         </td></tr>\n",
       "\t<tr><td>ENSG00000000005</td><td>SRR1039509     </td><td>   0           </td><td>126            </td><td>SRX384346      </td><td>SAMN02422675   </td><td>GSM1275863     </td><td>Dexamethasone  </td><td>N61311         </td></tr>\n",
       "</tbody>\n",
       "</table>\n"
      ],
      "text/latex": [
       "\\begin{tabular}{r|lllllllll}\n",
       " ensgene & Run & value & avgLength & Experiment & BioSample & sample & Treatment & Cell\\_type\\\\\n",
       "\\hline\n",
       "\t ENSG00000000003 & SRR1039508      &  723            & 126             & SRX384345       & SAMN02422669    & GSM1275862      & Untreated       & N61311         \\\\\n",
       "\t ENSG00000000003 & SRR1039509      &  486            & 126             & SRX384346       & SAMN02422675    & GSM1275863      & Dexamethasone   & N61311         \\\\\n",
       "\t ENSG00000000003 & SRR1039512      &  904            & 126             & SRX384349       & SAMN02422678    & GSM1275866      & Untreated       & N052611        \\\\\n",
       "\t ENSG00000000003 & SRR1039513      &  445            &  87             & SRX384350       & SAMN02422670    & GSM1275867      & Dexamethasone   & N052611        \\\\\n",
       "\t ENSG00000000003 & SRR1039516      & 1170            & 120             & SRX384353       & SAMN02422682    & GSM1275870      & Untreated       & N080611        \\\\\n",
       "\t ENSG00000000003 & SRR1039517      & 1097            & 126             & SRX384354       & SAMN02422673    & GSM1275871      & Dexamethasone   & N080611        \\\\\n",
       "\t ENSG00000000003 & SRR1039520      &  806            & 101             & SRX384357       & SAMN02422683    & GSM1275874      & Untreated       & N061011        \\\\\n",
       "\t ENSG00000000003 & SRR1039521      &  604            &  98             & SRX384358       & SAMN02422677    & GSM1275875      & Dexamethasone   & N061011        \\\\\n",
       "\t ENSG00000000005 & SRR1039508      &    0            & 126             & SRX384345       & SAMN02422669    & GSM1275862      & Untreated       & N61311         \\\\\n",
       "\t ENSG00000000005 & SRR1039509      &    0            & 126             & SRX384346       & SAMN02422675    & GSM1275863      & Dexamethasone   & N61311         \\\\\n",
       "\\end{tabular}\n"
      ],
      "text/markdown": [
       "\n",
       "| ensgene | Run | value | avgLength | Experiment | BioSample | sample | Treatment | Cell_type |\n",
       "|---|---|---|---|---|---|---|---|---|\n",
       "| ENSG00000000003 | SRR1039508      |  723            | 126             | SRX384345       | SAMN02422669    | GSM1275862      | Untreated       | N61311          |\n",
       "| ENSG00000000003 | SRR1039509      |  486            | 126             | SRX384346       | SAMN02422675    | GSM1275863      | Dexamethasone   | N61311          |\n",
       "| ENSG00000000003 | SRR1039512      |  904            | 126             | SRX384349       | SAMN02422678    | GSM1275866      | Untreated       | N052611         |\n",
       "| ENSG00000000003 | SRR1039513      |  445            |  87             | SRX384350       | SAMN02422670    | GSM1275867      | Dexamethasone   | N052611         |\n",
       "| ENSG00000000003 | SRR1039516      | 1170            | 120             | SRX384353       | SAMN02422682    | GSM1275870      | Untreated       | N080611         |\n",
       "| ENSG00000000003 | SRR1039517      | 1097            | 126             | SRX384354       | SAMN02422673    | GSM1275871      | Dexamethasone   | N080611         |\n",
       "| ENSG00000000003 | SRR1039520      |  806            | 101             | SRX384357       | SAMN02422683    | GSM1275874      | Untreated       | N061011         |\n",
       "| ENSG00000000003 | SRR1039521      |  604            |  98             | SRX384358       | SAMN02422677    | GSM1275875      | Dexamethasone   | N061011         |\n",
       "| ENSG00000000005 | SRR1039508      |    0            | 126             | SRX384345       | SAMN02422669    | GSM1275862      | Untreated       | N61311          |\n",
       "| ENSG00000000005 | SRR1039509      |    0            | 126             | SRX384346       | SAMN02422675    | GSM1275863      | Dexamethasone   | N61311          |\n",
       "\n"
      ],
      "text/plain": [
       "   ensgene         Run        value avgLength Experiment BioSample   \n",
       "1  ENSG00000000003 SRR1039508  723  126       SRX384345  SAMN02422669\n",
       "2  ENSG00000000003 SRR1039509  486  126       SRX384346  SAMN02422675\n",
       "3  ENSG00000000003 SRR1039512  904  126       SRX384349  SAMN02422678\n",
       "4  ENSG00000000003 SRR1039513  445   87       SRX384350  SAMN02422670\n",
       "5  ENSG00000000003 SRR1039516 1170  120       SRX384353  SAMN02422682\n",
       "6  ENSG00000000003 SRR1039517 1097  126       SRX384354  SAMN02422673\n",
       "7  ENSG00000000003 SRR1039520  806  101       SRX384357  SAMN02422683\n",
       "8  ENSG00000000003 SRR1039521  604   98       SRX384358  SAMN02422677\n",
       "9  ENSG00000000005 SRR1039508    0  126       SRX384345  SAMN02422669\n",
       "10 ENSG00000000005 SRR1039509    0  126       SRX384346  SAMN02422675\n",
       "   sample     Treatment     Cell_type\n",
       "1  GSM1275862 Untreated     N61311   \n",
       "2  GSM1275863 Dexamethasone N61311   \n",
       "3  GSM1275866 Untreated     N052611  \n",
       "4  GSM1275867 Dexamethasone N052611  \n",
       "5  GSM1275870 Untreated     N080611  \n",
       "6  GSM1275871 Dexamethasone N080611  \n",
       "7  GSM1275874 Untreated     N061011  \n",
       "8  GSM1275875 Dexamethasone N061011  \n",
       "9  GSM1275862 Untreated     N61311   \n",
       "10 GSM1275863 Dexamethasone N61311   "
      ]
     },
     "metadata": {},
     "output_type": "display_data"
    }
   ],
   "source": [
    "mnc <- count %>%\n",
    "    pivot_longer(\n",
    "    cols = -ensgene,\n",
    "    names_to = 'Run',\n",
    "    ) %>%\n",
    "left_join(metadata, by = 'Run')\n",
    "dim(mnc)\n",
    "mnc[1:10,]"
   ]
  },
  {
   "cell_type": "markdown",
   "metadata": {},
   "source": [
    "# (e)."
   ]
  },
  {
   "cell_type": "markdown",
   "metadata": {},
   "source": [
    "Using a side-by-side box plot, visually inspect if there is a difference in mean (or median)\n",
    "expression between different treatments? Make sure you add a legend. If working\n",
    "with counts directly is not informative, use an appropriate transformation. What do you\n",
    "conclude? You may add your conclusion as a comment in your .R file."
   ]
  },
  {
   "cell_type": "code",
   "execution_count": 86,
   "metadata": {
    "scrolled": false
   },
   "outputs": [
    {
     "data": {
      "image/png": "[encoded data removed]",
      "text/plain": [
       "plot without title"
      ]
     },
     "metadata": {},
     "output_type": "display_data"
    }
   ],
   "source": [
    "bp1 = ggplot(data = mnc)\n",
    "bp1 + geom_boxplot(aes(y = value, x = Treatment, fill = Treatment))"
   ]
  },
  {
   "cell_type": "markdown",
   "metadata": {},
   "source": [
    "Working with counts directly is not informative, try log transformation"
   ]
  },
  {
   "cell_type": "code",
   "execution_count": 89,
   "metadata": {
    "scrolled": false
   },
   "outputs": [
    {
     "data": {
      "image/png": "[encoded data removed]",
      "text/plain": [
       "plot without title"
      ]
     },
     "metadata": {},
     "output_type": "display_data"
    }
   ],
   "source": [
    "ndf<-data.frame(mnc,log_count=log2(mnc$value+1))\n",
    "bp1_l = ggplot(data = ndf)\n",
    "bp1_l + geom_boxplot(aes(y = log_count, x = Treatment, fill = Treatment))"
   ]
  },
  {
   "cell_type": "markdown",
   "metadata": {},
   "source": [
    "**Conclusion**: there is no difference between different treatment"
   ]
  },
  {
   "cell_type": "markdown",
   "metadata": {},
   "source": [
    "# (f)."
   ]
  },
  {
   "cell_type": "markdown",
   "metadata": {},
   "source": [
    "Using a side-by-side box plot, visually inspect if there is a difference in mean (or median)\n",
    "expression between different cell types? Make sure you add a legend. If working\n",
    "with counts directly is not informative, use an appropriate transformation. What do you\n",
    "conclude? You may add your conclusion as a comment in your .R file."
   ]
  },
  {
   "cell_type": "code",
   "execution_count": 90,
   "metadata": {
    "scrolled": false
   },
   "outputs": [
    {
     "data": {
      "image/png": "[encoded data removed]",
      "text/plain": [
       "plot without title"
      ]
     },
     "metadata": {},
     "output_type": "display_data"
    }
   ],
   "source": [
    "bp2 = ggplot(data = mnc)\n",
    "bp2 + geom_boxplot(aes(y = value, x = Cell_type, fill = Treatment))"
   ]
  },
  {
   "cell_type": "markdown",
   "metadata": {},
   "source": [
    "Working with counts directly is not informative, try log transformation"
   ]
  },
  {
   "cell_type": "code",
   "execution_count": 92,
   "metadata": {},
   "outputs": [
    {
     "data": {
      "image/png": "[encoded data removed]",
      "text/plain": [
       "plot without title"
      ]
     },
     "metadata": {},
     "output_type": "display_data"
    }
   ],
   "source": [
    "bp2_l = ggplot(data = ndf)\n",
    "bp2_l + geom_boxplot(aes(y = log_count, x = Cell_type, fill = Cell_type))"
   ]
  },
  {
   "cell_type": "markdown",
   "metadata": {},
   "source": [
    "**Conclusion**: there is no difference between different cell type"
   ]
  },
  {
   "cell_type": "markdown",
   "metadata": {},
   "source": [
    "# (g)."
   ]
  },
  {
   "cell_type": "markdown",
   "metadata": {},
   "source": [
    "Using a side-by-side box plot, visually inspect if there is a difference in mean (or median)\n",
    "expression between different treatment types within cell types? Make sure you\n",
    "add a legend. If working with counts directly is not informative, use an appropriate\n",
    "transformation. What do you conclude? You may add your conclusion as a comment\n",
    "in your .R file."
   ]
  },
  {
   "cell_type": "code",
   "execution_count": 94,
   "metadata": {},
   "outputs": [
    {
     "data": {
      "image/png": "[encoded data removed]",
      "text/plain": [
       "plot without title"
      ]
     },
     "metadata": {},
     "output_type": "display_data"
    }
   ],
   "source": [
    "bp3 = ggplot(data = mnc)\n",
    "bp3 + geom_boxplot(aes(y = value, x = Cell_type, fill = Treatment))"
   ]
  },
  {
   "cell_type": "markdown",
   "metadata": {},
   "source": [
    "Working with counts directly is not informative, try log transformation"
   ]
  },
  {
   "cell_type": "code",
   "execution_count": 95,
   "metadata": {
    "scrolled": false
   },
   "outputs": [
    {
     "data": {
      "image/png": "[encoded data removed]",
      "text/plain": [
       "plot without title"
      ]
     },
     "metadata": {},
     "output_type": "display_data"
    }
   ],
   "source": [
    "bp3_l = ggplot(data = ndf)\n",
    "bp3_l + geom_boxplot(aes(y = log_count, x = Cell_type, fill = Treatment))"
   ]
  },
  {
   "cell_type": "markdown",
   "metadata": {},
   "source": [
    "**Conclusion:** Within cell type **N052611**, there is difference between two treatment."
   ]
  },
  {
   "cell_type": "markdown",
   "metadata": {},
   "source": [
    "# (h)."
   ]
  },
  {
   "cell_type": "markdown",
   "metadata": {},
   "source": [
    "Extract the expression profile of gene ”ENSG00000064607” and plot it against the\n",
    "samples in x-axis. Add different symbols and/or colors to identify which expressions\n",
    "are from which treatment type."
   ]
  },
  {
   "cell_type": "code",
   "execution_count": 114,
   "metadata": {},
   "outputs": [
    {
     "data": {
      "text/html": [
       "<table>\n",
       "<thead><tr><th></th><th scope=col>ensgene</th><th scope=col>Run</th><th scope=col>value</th><th scope=col>avgLength</th><th scope=col>Experiment</th><th scope=col>BioSample</th><th scope=col>sample</th><th scope=col>Treatment</th><th scope=col>Cell_type</th><th scope=col>log_count</th></tr></thead>\n",
       "<tbody>\n",
       "\t<tr><th scope=row>7113</th><td>ENSG00000064607</td><td>SRR1039508     </td><td>1732           </td><td>126            </td><td>SRX384345      </td><td>SAMN02422669   </td><td>GSM1275862     </td><td>Untreated      </td><td>N61311         </td><td>10.759056      </td></tr>\n",
       "\t<tr><th scope=row>7114</th><td>ENSG00000064607</td><td>SRR1039509     </td><td>1587           </td><td>126            </td><td>SRX384346      </td><td>SAMN02422675   </td><td>GSM1275863     </td><td>Dexamethasone  </td><td>N61311         </td><td>10.632995      </td></tr>\n",
       "\t<tr><th scope=row>7115</th><td>ENSG00000064607</td><td>SRR1039512     </td><td>2052           </td><td>126            </td><td>SRX384349      </td><td>SAMN02422678   </td><td>GSM1275866     </td><td>Untreated      </td><td>N052611        </td><td>11.003518      </td></tr>\n",
       "\t<tr><th scope=row>7116</th><td>ENSG00000064607</td><td>SRR1039513     </td><td>1012           </td><td> 87            </td><td>SRX384350      </td><td>SAMN02422670   </td><td>GSM1275867     </td><td>Dexamethasone  </td><td>N052611        </td><td> 9.984418      </td></tr>\n",
       "\t<tr><th scope=row>7117</th><td>ENSG00000064607</td><td>SRR1039516     </td><td>1810           </td><td>120            </td><td>SRX384353      </td><td>SAMN02422682   </td><td>GSM1275870     </td><td>Untreated      </td><td>N080611        </td><td>10.822571      </td></tr>\n",
       "\t<tr><th scope=row>7118</th><td>ENSG00000064607</td><td>SRR1039517     </td><td>2071           </td><td>126            </td><td>SRX384354      </td><td>SAMN02422673   </td><td>GSM1275871     </td><td>Dexamethasone  </td><td>N080611        </td><td>11.016808      </td></tr>\n",
       "\t<tr><th scope=row>7119</th><td>ENSG00000064607</td><td>SRR1039520     </td><td>1405           </td><td>101            </td><td>SRX384357      </td><td>SAMN02422683   </td><td>GSM1275874     </td><td>Untreated      </td><td>N061011        </td><td>10.457381      </td></tr>\n",
       "\t<tr><th scope=row>7120</th><td>ENSG00000064607</td><td>SRR1039521     </td><td>1260           </td><td> 98            </td><td>SRX384358      </td><td>SAMN02422677   </td><td>GSM1275875     </td><td>Dexamethasone  </td><td>N061011        </td><td>10.300353      </td></tr>\n",
       "</tbody>\n",
       "</table>\n"
      ],
      "text/latex": [
       "\\begin{tabular}{r|llllllllll}\n",
       "  & ensgene & Run & value & avgLength & Experiment & BioSample & sample & Treatment & Cell\\_type & log\\_count\\\\\n",
       "\\hline\n",
       "\t7113 & ENSG00000064607 & SRR1039508      & 1732            & 126             & SRX384345       & SAMN02422669    & GSM1275862      & Untreated       & N61311          & 10.759056      \\\\\n",
       "\t7114 & ENSG00000064607 & SRR1039509      & 1587            & 126             & SRX384346       & SAMN02422675    & GSM1275863      & Dexamethasone   & N61311          & 10.632995      \\\\\n",
       "\t7115 & ENSG00000064607 & SRR1039512      & 2052            & 126             & SRX384349       & SAMN02422678    & GSM1275866      & Untreated       & N052611         & 11.003518      \\\\\n",
       "\t7116 & ENSG00000064607 & SRR1039513      & 1012            &  87             & SRX384350       & SAMN02422670    & GSM1275867      & Dexamethasone   & N052611         &  9.984418      \\\\\n",
       "\t7117 & ENSG00000064607 & SRR1039516      & 1810            & 120             & SRX384353       & SAMN02422682    & GSM1275870      & Untreated       & N080611         & 10.822571      \\\\\n",
       "\t7118 & ENSG00000064607 & SRR1039517      & 2071            & 126             & SRX384354       & SAMN02422673    & GSM1275871      & Dexamethasone   & N080611         & 11.016808      \\\\\n",
       "\t7119 & ENSG00000064607 & SRR1039520      & 1405            & 101             & SRX384357       & SAMN02422683    & GSM1275874      & Untreated       & N061011         & 10.457381      \\\\\n",
       "\t7120 & ENSG00000064607 & SRR1039521      & 1260            &  98             & SRX384358       & SAMN02422677    & GSM1275875      & Dexamethasone   & N061011         & 10.300353      \\\\\n",
       "\\end{tabular}\n"
      ],
      "text/markdown": [
       "\n",
       "| <!--/--> | ensgene | Run | value | avgLength | Experiment | BioSample | sample | Treatment | Cell_type | log_count |\n",
       "|---|---|---|---|---|---|---|---|---|---|---|\n",
       "| 7113 | ENSG00000064607 | SRR1039508      | 1732            | 126             | SRX384345       | SAMN02422669    | GSM1275862      | Untreated       | N61311          | 10.759056       |\n",
       "| 7114 | ENSG00000064607 | SRR1039509      | 1587            | 126             | SRX384346       | SAMN02422675    | GSM1275863      | Dexamethasone   | N61311          | 10.632995       |\n",
       "| 7115 | ENSG00000064607 | SRR1039512      | 2052            | 126             | SRX384349       | SAMN02422678    | GSM1275866      | Untreated       | N052611         | 11.003518       |\n",
       "| 7116 | ENSG00000064607 | SRR1039513      | 1012            |  87             | SRX384350       | SAMN02422670    | GSM1275867      | Dexamethasone   | N052611         |  9.984418       |\n",
       "| 7117 | ENSG00000064607 | SRR1039516      | 1810            | 120             | SRX384353       | SAMN02422682    | GSM1275870      | Untreated       | N080611         | 10.822571       |\n",
       "| 7118 | ENSG00000064607 | SRR1039517      | 2071            | 126             | SRX384354       | SAMN02422673    | GSM1275871      | Dexamethasone   | N080611         | 11.016808       |\n",
       "| 7119 | ENSG00000064607 | SRR1039520      | 1405            | 101             | SRX384357       | SAMN02422683    | GSM1275874      | Untreated       | N061011         | 10.457381       |\n",
       "| 7120 | ENSG00000064607 | SRR1039521      | 1260            |  98             | SRX384358       | SAMN02422677    | GSM1275875      | Dexamethasone   | N061011         | 10.300353       |\n",
       "\n"
      ],
      "text/plain": [
       "     ensgene         Run        value avgLength Experiment BioSample   \n",
       "7113 ENSG00000064607 SRR1039508 1732  126       SRX384345  SAMN02422669\n",
       "7114 ENSG00000064607 SRR1039509 1587  126       SRX384346  SAMN02422675\n",
       "7115 ENSG00000064607 SRR1039512 2052  126       SRX384349  SAMN02422678\n",
       "7116 ENSG00000064607 SRR1039513 1012   87       SRX384350  SAMN02422670\n",
       "7117 ENSG00000064607 SRR1039516 1810  120       SRX384353  SAMN02422682\n",
       "7118 ENSG00000064607 SRR1039517 2071  126       SRX384354  SAMN02422673\n",
       "7119 ENSG00000064607 SRR1039520 1405  101       SRX384357  SAMN02422683\n",
       "7120 ENSG00000064607 SRR1039521 1260   98       SRX384358  SAMN02422677\n",
       "     sample     Treatment     Cell_type log_count\n",
       "7113 GSM1275862 Untreated     N61311    10.759056\n",
       "7114 GSM1275863 Dexamethasone N61311    10.632995\n",
       "7115 GSM1275866 Untreated     N052611   11.003518\n",
       "7116 GSM1275867 Dexamethasone N052611    9.984418\n",
       "7117 GSM1275870 Untreated     N080611   10.822571\n",
       "7118 GSM1275871 Dexamethasone N080611   11.016808\n",
       "7119 GSM1275874 Untreated     N061011   10.457381\n",
       "7120 GSM1275875 Dexamethasone N061011   10.300353"
      ]
     },
     "metadata": {},
     "output_type": "display_data"
    },
    {
     "data": {
      "image/png": "[encoded data removed]",
      "text/plain": [
       "plot without title"
      ]
     },
     "metadata": {},
     "output_type": "display_data"
    }
   ],
   "source": [
    "ext_gene = ndf[which(ndf$ensgene=='ENSG00000064607'),]\n",
    "ext_gene\n",
    "options(repr.plot.width=12,repr.plot.height=3)\n",
    "theme_update(plot.title = element_text(hjust = 0.5,size=12))\n",
    "ggplot(data = ext_gene,aes(x = sample, y = 0, col = Treatment))+geom_jitter(size = 5,width = 0, height = 0)+ggtitle('Expression profile of gene ENSG00000064607  against the samples')+theme(axis.title.y=element_blank(),axis.text.y=element_blank(),axis.ticks.y=element_blank())"
   ]
  },
  {
   "cell_type": "markdown",
   "metadata": {},
   "source": [
    "# 2"
   ]
  },
  {
   "cell_type": "markdown",
   "metadata": {},
   "source": [
    "# (a)."
   ]
  }
 ],
 "metadata": {
  "kernelspec": {
   "display_name": "R",
   "language": "R",
   "name": "ir"
  },
  "language_info": {
   "codemirror_mode": "r",
   "file_extension": ".r",
   "mimetype": "text/x-r-source",
   "name": "R",
   "pygments_lexer": "r",
   "version": "3.6.1"
  },
  "latex_envs": {
   "LaTeX_envs_menu_present": true,
   "autoclose": false,
   "autocomplete": true,
   "bibliofile": "biblio.bib",
   "cite_by": "apalike",
   "current_citInitial": 1,
   "eqLabelWithNumbers": true,
   "eqNumInitial": 1,
   "hotkeys": {
    "equation": "Ctrl-E",
    "itemize": "Ctrl-I"
   },
   "labels_anchors": false,
   "latex_user_defs": false,
   "report_style_numbering": false,
   "user_envs_cfg": false
  },
  "toc": {
   "base_numbering": 1,
   "nav_menu": {},
   "number_sections": false,
   "sideBar": true,
   "skip_h1_title": false,
   "title_cell": "Table of Contents",
   "title_sidebar": "Contents",
   "toc_cell": false,
   "toc_position": {
    "height": "calc(100% - 180px)",
    "left": "10px",
    "top": "150px",
    "width": "320px"
   },
   "toc_section_display": true,
   "toc_window_display": true
  }
 },
 "nbformat": 4,
 "nbformat_minor": 2
}
