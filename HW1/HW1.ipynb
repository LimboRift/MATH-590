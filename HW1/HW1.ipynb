{
 "cells": [
  {
   "cell_type": "markdown",
   "metadata": {},
   "source": [
    "# 1"
   ]
  },
  {
   "cell_type": "markdown",
   "metadata": {},
   "source": [
    "# (a)."
   ]
  },
  {
   "cell_type": "markdown",
   "metadata": {},
   "source": [
    "(a) Read all files as a tibble object. Identify primary keys in all datasets and write R\n",
    "code to show that these keys uniquely identifies observations in these datasets."
   ]
  },
  {
   "cell_type": "code",
   "execution_count": 1,
   "metadata": {},
   "outputs": [
    {
     "name": "stderr",
     "output_type": "stream",
     "text": [
      "Installing packages into 'C:/Users/DELL/Documents/R/win-library/3.6'\n",
      "(as 'lib' is unspecified)\n",
      "Warning message:\n",
      "\"package 'grid' is not available (for R version 3.6.1)\"Warning message:\n",
      "\"package 'grid' is a base package, and should not be updated\""
     ]
    },
    {
     "name": "stdout",
     "output_type": "stream",
     "text": [
      "package 'tidyverse' successfully unpacked and MD5 sums checked\n",
      "package 'nycflights13' successfully unpacked and MD5 sums checked\n",
      "package 'ggplot2' successfully unpacked and MD5 sums checked\n",
      "package 'gridExtra' successfully unpacked and MD5 sums checked\n",
      "package 'reshape' successfully unpacked and MD5 sums checked\n",
      "package 'stringr' successfully unpacked and MD5 sums checked\n",
      "\n",
      "The downloaded binary packages are in\n",
      "\tC:\\Users\\DELL\\AppData\\Local\\Temp\\RtmpY9YmYm\\downloaded_packages\n"
     ]
    },
    {
     "name": "stderr",
     "output_type": "stream",
     "text": [
      "Warning message:\n",
      "\"package 'tidyverse' was built under R version 3.6.2\"-- Attaching packages --------------------------------------- tidyverse 1.3.0 --\n",
      "v ggplot2 3.2.1     v purrr   0.3.3\n",
      "v tibble  2.1.3     v dplyr   0.8.4\n",
      "v tidyr   1.0.2     v stringr 1.4.0\n",
      "v readr   1.3.1     v forcats 0.4.0\n",
      "Warning message:\n",
      "\"package 'ggplot2' was built under R version 3.6.2\"Warning message:\n",
      "\"package 'tibble' was built under R version 3.6.2\"Warning message:\n",
      "\"package 'tidyr' was built under R version 3.6.2\"Warning message:\n",
      "\"package 'readr' was built under R version 3.6.2\"Warning message:\n",
      "\"package 'purrr' was built under R version 3.6.2\"Warning message:\n",
      "\"package 'dplyr' was built under R version 3.6.2\"Warning message:\n",
      "\"package 'stringr' was built under R version 3.6.2\"Warning message:\n",
      "\"package 'forcats' was built under R version 3.6.2\"-- Conflicts ------------------------------------------ tidyverse_conflicts() --\n",
      "x dplyr::filter() masks stats::filter()\n",
      "x dplyr::lag()    masks stats::lag()\n",
      "Warning message:\n",
      "\"package 'nycflights13' was built under R version 3.6.2\"Warning message:\n",
      "\"package 'gridExtra' was built under R version 3.6.2\"\n",
      "Attaching package: 'gridExtra'\n",
      "\n",
      "The following object is masked from 'package:dplyr':\n",
      "\n",
      "    combine\n",
      "\n",
      "Warning message:\n",
      "\"package 'reshape' was built under R version 3.6.2\"\n",
      "Attaching package: 'reshape'\n",
      "\n",
      "The following object is masked from 'package:dplyr':\n",
      "\n",
      "    rename\n",
      "\n",
      "The following objects are masked from 'package:tidyr':\n",
      "\n",
      "    expand, smiths\n",
      "\n",
      "Parsed with column specification:\n",
      "cols(\n",
      "  ensgene = col_character(),\n",
      "  SRR1039508 = col_double(),\n",
      "  SRR1039509 = col_double(),\n",
      "  SRR1039512 = col_double(),\n",
      "  SRR1039513 = col_double(),\n",
      "  SRR1039516 = col_double(),\n",
      "  SRR1039517 = col_double(),\n",
      "  SRR1039520 = col_double(),\n",
      "  SRR1039521 = col_double()\n",
      ")\n",
      "Parsed with column specification:\n",
      "cols(\n",
      "  x = col_character()\n",
      ")\n",
      "Parsed with column specification:\n",
      "cols(\n",
      "  Run = col_character(),\n",
      "  avgLength = col_double(),\n",
      "  Experiment = col_character(),\n",
      "  BioSample = col_character(),\n",
      "  sample = col_character()\n",
      ")\n",
      "Parsed with column specification:\n",
      "cols(\n",
      "  Sample = col_character(),\n",
      "  Treatment = col_character(),\n",
      "  Cell_type = col_character()\n",
      ")\n"
     ]
    }
   ],
   "source": [
    "install.packages(c('tidyverse','nycflights13','ggplot2','gridExtra','grid','reshape','stringr'))\n",
    "library(tidyverse)\n",
    "library(nycflights13)\n",
    "library(ggplot2)\n",
    "library(gridExtra)\n",
    "library(grid)\n",
    "library(reshape)\n",
    "library(stringr)\n",
    "\n",
    "count = as_tibble(read_csv(\"count.csv\"))\n",
    "mrna = as_tibble(read_csv(\"mRNA.csv\"))\n",
    "run_info = as_tibble(read_csv(\"Run_Info.csv\"))\n",
    "treatment_info = as_tibble(read_csv(\"Treatment_Info.csv\"))"
   ]
  },
  {
   "cell_type": "code",
   "execution_count": 2,
   "metadata": {
    "scrolled": false
   },
   "outputs": [
    {
     "data": {
      "text/html": [
       "<table>\n",
       "<thead><tr><th scope=col>ensgene</th><th scope=col>n</th></tr></thead>\n",
       "<tbody>\n",
       "</tbody>\n",
       "</table>\n"
      ],
      "text/latex": [
       "\\begin{tabular}{r|ll}\n",
       " ensgene & n\\\\\n",
       "\\hline\n",
       "\\end{tabular}\n"
      ],
      "text/markdown": [
       "\n",
       "| ensgene | n |\n",
       "|---|---|\n",
       "\n"
      ],
      "text/plain": [
       "     ensgene n"
      ]
     },
     "metadata": {},
     "output_type": "display_data"
    },
    {
     "data": {
      "text/html": [
       "<table>\n",
       "<thead><tr><th scope=col>x</th><th scope=col>n</th></tr></thead>\n",
       "<tbody>\n",
       "</tbody>\n",
       "</table>\n"
      ],
      "text/latex": [
       "\\begin{tabular}{r|ll}\n",
       " x & n\\\\\n",
       "\\hline\n",
       "\\end{tabular}\n"
      ],
      "text/markdown": [
       "\n",
       "| x | n |\n",
       "|---|---|\n",
       "\n"
      ],
      "text/plain": [
       "     x n"
      ]
     },
     "metadata": {},
     "output_type": "display_data"
    },
    {
     "data": {
      "text/html": [
       "<table>\n",
       "<thead><tr><th scope=col>Run</th><th scope=col>n</th></tr></thead>\n",
       "<tbody>\n",
       "</tbody>\n",
       "</table>\n"
      ],
      "text/latex": [
       "\\begin{tabular}{r|ll}\n",
       " Run & n\\\\\n",
       "\\hline\n",
       "\\end{tabular}\n"
      ],
      "text/markdown": [
       "\n",
       "| Run | n |\n",
       "|---|---|\n",
       "\n"
      ],
      "text/plain": [
       "     Run n"
      ]
     },
     "metadata": {},
     "output_type": "display_data"
    },
    {
     "data": {
      "text/html": [
       "<table>\n",
       "<thead><tr><th scope=col>Sample</th><th scope=col>n</th></tr></thead>\n",
       "<tbody>\n",
       "</tbody>\n",
       "</table>\n"
      ],
      "text/latex": [
       "\\begin{tabular}{r|ll}\n",
       " Sample & n\\\\\n",
       "\\hline\n",
       "\\end{tabular}\n"
      ],
      "text/markdown": [
       "\n",
       "| Sample | n |\n",
       "|---|---|\n",
       "\n"
      ],
      "text/plain": [
       "     Sample n"
      ]
     },
     "metadata": {},
     "output_type": "display_data"
    }
   ],
   "source": [
    "#show that these keys uniquely identifies observations in these datasets:\n",
    "count %>% count(ensgene) %>% filter(n > 1)\n",
    "mrna %>% count(x) %>% filter(n > 1)\n",
    "run_info %>% count(Run) %>% filter(n > 1)\n",
    "treatment_info %>% count(Sample) %>% filter(n > 1)"
   ]
  },
  {
   "cell_type": "markdown",
   "metadata": {},
   "source": [
    "# (b)."
   ]
  },
  {
   "cell_type": "markdown",
   "metadata": {},
   "source": [
    "Both Run Info.csv and Treatment Info.csv contains meta-data information.\n",
    "Using appropriate join function, combine the information into one tibble called\n",
    "metadata."
   ]
  },
  {
   "cell_type": "code",
   "execution_count": 3,
   "metadata": {},
   "outputs": [
    {
     "data": {
      "text/html": [
       "<table>\n",
       "<thead><tr><th scope=col>Run</th><th scope=col>avgLength</th><th scope=col>Experiment</th><th scope=col>BioSample</th><th scope=col>sample</th><th scope=col>Treatment</th><th scope=col>Cell_type</th></tr></thead>\n",
       "<tbody>\n",
       "\t<tr><td>SRR1039508             </td><td>126                    </td><td>SRX384345              </td><td>SAMN02422669           </td><td>GSM1275862             </td><td>Untreated              </td><td>N61311                 </td></tr>\n",
       "\t<tr><td>SRR1039509             </td><td>126                    </td><td>SRX384346              </td><td>SAMN02422675           </td><td>GSM1275863             </td><td>Dexamethasone          </td><td>N61311                 </td></tr>\n",
       "\t<tr><td>SRR1039510             </td><td>126                    </td><td>SRX384347              </td><td>SAMN02422668           </td><td>GSM1275864             </td><td>Albuterol              </td><td>N61311                 </td></tr>\n",
       "\t<tr><td>SRR1039511             </td><td>126                    </td><td>SRX384348              </td><td>SAMN02422667           </td><td>GSM1275865             </td><td>Albuterol_Dexamethasone</td><td>N61311                 </td></tr>\n",
       "\t<tr><td>SRR1039512             </td><td>126                    </td><td>SRX384349              </td><td>SAMN02422678           </td><td>GSM1275866             </td><td>Untreated              </td><td>N052611                </td></tr>\n",
       "\t<tr><td>SRR1039513             </td><td> 87                    </td><td>SRX384350              </td><td>SAMN02422670           </td><td>GSM1275867             </td><td>Dexamethasone          </td><td>N052611                </td></tr>\n",
       "\t<tr><td>SRR1039514             </td><td>126                    </td><td>SRX384351              </td><td>SAMN02422681           </td><td>GSM1275868             </td><td>Albuterol              </td><td>N052611                </td></tr>\n",
       "\t<tr><td>SRR1039515             </td><td>114                    </td><td>SRX384352              </td><td>SAMN02422671           </td><td>GSM1275869             </td><td>Albuterol_Dexamethasone</td><td>N052611                </td></tr>\n",
       "\t<tr><td>SRR1039516             </td><td>120                    </td><td>SRX384353              </td><td>SAMN02422682           </td><td>GSM1275870             </td><td>Untreated              </td><td>N080611                </td></tr>\n",
       "\t<tr><td>SRR1039517             </td><td>126                    </td><td>SRX384354              </td><td>SAMN02422673           </td><td>GSM1275871             </td><td>Dexamethasone          </td><td>N080611                </td></tr>\n",
       "\t<tr><td>SRR1039518             </td><td>126                    </td><td>SRX384355              </td><td>SAMN02422679           </td><td>GSM1275872             </td><td>Albuterol              </td><td>N080611                </td></tr>\n",
       "\t<tr><td>SRR1039519             </td><td>107                    </td><td>SRX384356              </td><td>SAMN02422672           </td><td>GSM1275873             </td><td>Albuterol_Dexamethasone</td><td>N080611                </td></tr>\n",
       "\t<tr><td>SRR1039520             </td><td>101                    </td><td>SRX384357              </td><td>SAMN02422683           </td><td>GSM1275874             </td><td>Untreated              </td><td>N061011                </td></tr>\n",
       "\t<tr><td>SRR1039521             </td><td> 98                    </td><td>SRX384358              </td><td>SAMN02422677           </td><td>GSM1275875             </td><td>Dexamethasone          </td><td>N061011                </td></tr>\n",
       "\t<tr><td>SRR1039522             </td><td>125                    </td><td>SRX384359              </td><td>SAMN02422680           </td><td>GSM1275876             </td><td>Albuterol              </td><td>N061011                </td></tr>\n",
       "\t<tr><td>SRR1039523             </td><td>126                    </td><td>SRX384360              </td><td>SAMN02422674           </td><td>GSM1275877             </td><td>Albuterol_Dexamethasone</td><td>N061011                </td></tr>\n",
       "</tbody>\n",
       "</table>\n"
      ],
      "text/latex": [
       "\\begin{tabular}{r|lllllll}\n",
       " Run & avgLength & Experiment & BioSample & sample & Treatment & Cell\\_type\\\\\n",
       "\\hline\n",
       "\t SRR1039508              & 126                     & SRX384345               & SAMN02422669            & GSM1275862              & Untreated               & N61311                 \\\\\n",
       "\t SRR1039509              & 126                     & SRX384346               & SAMN02422675            & GSM1275863              & Dexamethasone           & N61311                 \\\\\n",
       "\t SRR1039510              & 126                     & SRX384347               & SAMN02422668            & GSM1275864              & Albuterol               & N61311                 \\\\\n",
       "\t SRR1039511                & 126                       & SRX384348                 & SAMN02422667              & GSM1275865                & Albuterol\\_Dexamethasone & N61311                   \\\\\n",
       "\t SRR1039512              & 126                     & SRX384349               & SAMN02422678            & GSM1275866              & Untreated               & N052611                \\\\\n",
       "\t SRR1039513              &  87                     & SRX384350               & SAMN02422670            & GSM1275867              & Dexamethasone           & N052611                \\\\\n",
       "\t SRR1039514              & 126                     & SRX384351               & SAMN02422681            & GSM1275868              & Albuterol               & N052611                \\\\\n",
       "\t SRR1039515                & 114                       & SRX384352                 & SAMN02422671              & GSM1275869                & Albuterol\\_Dexamethasone & N052611                  \\\\\n",
       "\t SRR1039516              & 120                     & SRX384353               & SAMN02422682            & GSM1275870              & Untreated               & N080611                \\\\\n",
       "\t SRR1039517              & 126                     & SRX384354               & SAMN02422673            & GSM1275871              & Dexamethasone           & N080611                \\\\\n",
       "\t SRR1039518              & 126                     & SRX384355               & SAMN02422679            & GSM1275872              & Albuterol               & N080611                \\\\\n",
       "\t SRR1039519                & 107                       & SRX384356                 & SAMN02422672              & GSM1275873                & Albuterol\\_Dexamethasone & N080611                  \\\\\n",
       "\t SRR1039520              & 101                     & SRX384357               & SAMN02422683            & GSM1275874              & Untreated               & N061011                \\\\\n",
       "\t SRR1039521              &  98                     & SRX384358               & SAMN02422677            & GSM1275875              & Dexamethasone           & N061011                \\\\\n",
       "\t SRR1039522              & 125                     & SRX384359               & SAMN02422680            & GSM1275876              & Albuterol               & N061011                \\\\\n",
       "\t SRR1039523                & 126                       & SRX384360                 & SAMN02422674              & GSM1275877                & Albuterol\\_Dexamethasone & N061011                  \\\\\n",
       "\\end{tabular}\n"
      ],
      "text/markdown": [
       "\n",
       "| Run | avgLength | Experiment | BioSample | sample | Treatment | Cell_type |\n",
       "|---|---|---|---|---|---|---|\n",
       "| SRR1039508              | 126                     | SRX384345               | SAMN02422669            | GSM1275862              | Untreated               | N61311                  |\n",
       "| SRR1039509              | 126                     | SRX384346               | SAMN02422675            | GSM1275863              | Dexamethasone           | N61311                  |\n",
       "| SRR1039510              | 126                     | SRX384347               | SAMN02422668            | GSM1275864              | Albuterol               | N61311                  |\n",
       "| SRR1039511              | 126                     | SRX384348               | SAMN02422667            | GSM1275865              | Albuterol_Dexamethasone | N61311                  |\n",
       "| SRR1039512              | 126                     | SRX384349               | SAMN02422678            | GSM1275866              | Untreated               | N052611                 |\n",
       "| SRR1039513              |  87                     | SRX384350               | SAMN02422670            | GSM1275867              | Dexamethasone           | N052611                 |\n",
       "| SRR1039514              | 126                     | SRX384351               | SAMN02422681            | GSM1275868              | Albuterol               | N052611                 |\n",
       "| SRR1039515              | 114                     | SRX384352               | SAMN02422671            | GSM1275869              | Albuterol_Dexamethasone | N052611                 |\n",
       "| SRR1039516              | 120                     | SRX384353               | SAMN02422682            | GSM1275870              | Untreated               | N080611                 |\n",
       "| SRR1039517              | 126                     | SRX384354               | SAMN02422673            | GSM1275871              | Dexamethasone           | N080611                 |\n",
       "| SRR1039518              | 126                     | SRX384355               | SAMN02422679            | GSM1275872              | Albuterol               | N080611                 |\n",
       "| SRR1039519              | 107                     | SRX384356               | SAMN02422672            | GSM1275873              | Albuterol_Dexamethasone | N080611                 |\n",
       "| SRR1039520              | 101                     | SRX384357               | SAMN02422683            | GSM1275874              | Untreated               | N061011                 |\n",
       "| SRR1039521              |  98                     | SRX384358               | SAMN02422677            | GSM1275875              | Dexamethasone           | N061011                 |\n",
       "| SRR1039522              | 125                     | SRX384359               | SAMN02422680            | GSM1275876              | Albuterol               | N061011                 |\n",
       "| SRR1039523              | 126                     | SRX384360               | SAMN02422674            | GSM1275877              | Albuterol_Dexamethasone | N061011                 |\n",
       "\n"
      ],
      "text/plain": [
       "   Run        avgLength Experiment BioSample    sample    \n",
       "1  SRR1039508 126       SRX384345  SAMN02422669 GSM1275862\n",
       "2  SRR1039509 126       SRX384346  SAMN02422675 GSM1275863\n",
       "3  SRR1039510 126       SRX384347  SAMN02422668 GSM1275864\n",
       "4  SRR1039511 126       SRX384348  SAMN02422667 GSM1275865\n",
       "5  SRR1039512 126       SRX384349  SAMN02422678 GSM1275866\n",
       "6  SRR1039513  87       SRX384350  SAMN02422670 GSM1275867\n",
       "7  SRR1039514 126       SRX384351  SAMN02422681 GSM1275868\n",
       "8  SRR1039515 114       SRX384352  SAMN02422671 GSM1275869\n",
       "9  SRR1039516 120       SRX384353  SAMN02422682 GSM1275870\n",
       "10 SRR1039517 126       SRX384354  SAMN02422673 GSM1275871\n",
       "11 SRR1039518 126       SRX384355  SAMN02422679 GSM1275872\n",
       "12 SRR1039519 107       SRX384356  SAMN02422672 GSM1275873\n",
       "13 SRR1039520 101       SRX384357  SAMN02422683 GSM1275874\n",
       "14 SRR1039521  98       SRX384358  SAMN02422677 GSM1275875\n",
       "15 SRR1039522 125       SRX384359  SAMN02422680 GSM1275876\n",
       "16 SRR1039523 126       SRX384360  SAMN02422674 GSM1275877\n",
       "   Treatment               Cell_type\n",
       "1  Untreated               N61311   \n",
       "2  Dexamethasone           N61311   \n",
       "3  Albuterol               N61311   \n",
       "4  Albuterol_Dexamethasone N61311   \n",
       "5  Untreated               N052611  \n",
       "6  Dexamethasone           N052611  \n",
       "7  Albuterol               N052611  \n",
       "8  Albuterol_Dexamethasone N052611  \n",
       "9  Untreated               N080611  \n",
       "10 Dexamethasone           N080611  \n",
       "11 Albuterol               N080611  \n",
       "12 Albuterol_Dexamethasone N080611  \n",
       "13 Untreated               N061011  \n",
       "14 Dexamethasone           N061011  \n",
       "15 Albuterol               N061011  \n",
       "16 Albuterol_Dexamethasone N061011  "
      ]
     },
     "metadata": {},
     "output_type": "display_data"
    }
   ],
   "source": [
    "colnames(treatment_info)[1] = 'sample'\n",
    "metadata = as_tibble(full_join(run_info, treatment_info, by = 'sample'))\n",
    "metadata"
   ]
  },
  {
   "cell_type": "markdown",
   "metadata": {},
   "source": [
    "# (c)."
   ]
  },
  {
   "cell_type": "markdown",
   "metadata": {},
   "source": [
    "Write a pipe that computes the mean of the average length by treatment type and by\n",
    "cell type. Create a 1*2 grid using ggplot2 and plot the average length by treatment\n",
    "type or average length by treatment type. Make sure you use an appropriate legend for\n",
    "the plots so that each point in the plot can be visually identified and add an appropriate\n",
    "title for the grid."
   ]
  },
  {
   "cell_type": "code",
   "execution_count": 22,
   "metadata": {},
   "outputs": [
    {
     "data": {
      "text/html": [
       "<table>\n",
       "<thead><tr><th scope=col>Treatment</th><th scope=col>mean</th></tr></thead>\n",
       "<tbody>\n",
       "\t<tr><td>Albuterol              </td><td>125.75                 </td></tr>\n",
       "\t<tr><td>Albuterol_Dexamethasone</td><td>118.25                 </td></tr>\n",
       "\t<tr><td>Dexamethasone          </td><td>109.25                 </td></tr>\n",
       "\t<tr><td>Untreated              </td><td>118.25                 </td></tr>\n",
       "</tbody>\n",
       "</table>\n"
      ],
      "text/latex": [
       "\\begin{tabular}{r|ll}\n",
       " Treatment & mean\\\\\n",
       "\\hline\n",
       "\t Albuterol               & 125.75                 \\\\\n",
       "\t Albuterol\\_Dexamethasone & 118.25                   \\\\\n",
       "\t Dexamethasone           & 109.25                 \\\\\n",
       "\t Untreated               & 118.25                 \\\\\n",
       "\\end{tabular}\n"
      ],
      "text/markdown": [
       "\n",
       "| Treatment | mean |\n",
       "|---|---|\n",
       "| Albuterol               | 125.75                  |\n",
       "| Albuterol_Dexamethasone | 118.25                  |\n",
       "| Dexamethasone           | 109.25                  |\n",
       "| Untreated               | 118.25                  |\n",
       "\n"
      ],
      "text/plain": [
       "  Treatment               mean  \n",
       "1 Albuterol               125.75\n",
       "2 Albuterol_Dexamethasone 118.25\n",
       "3 Dexamethasone           109.25\n",
       "4 Untreated               118.25"
      ]
     },
     "metadata": {},
     "output_type": "display_data"
    }
   ],
   "source": [
    "metadata %>% \n",
    "    group_by(Treatment) %>%\n",
    "    summarise(mean = mean(avgLength, na.rm = TRUE))"
   ]
  },
  {
   "cell_type": "code",
   "execution_count": 5,
   "metadata": {},
   "outputs": [
    {
     "data": {
      "text/html": [
       "<table>\n",
       "<thead><tr><th scope=col>Cell_type</th><th scope=col>mean</th></tr></thead>\n",
       "<tbody>\n",
       "\t<tr><td>N052611</td><td>113.25 </td></tr>\n",
       "\t<tr><td>N061011</td><td>112.50 </td></tr>\n",
       "\t<tr><td>N080611</td><td>119.75 </td></tr>\n",
       "\t<tr><td>N61311 </td><td>126.00 </td></tr>\n",
       "</tbody>\n",
       "</table>\n"
      ],
      "text/latex": [
       "\\begin{tabular}{r|ll}\n",
       " Cell\\_type & mean\\\\\n",
       "\\hline\n",
       "\t N052611 & 113.25 \\\\\n",
       "\t N061011 & 112.50 \\\\\n",
       "\t N080611 & 119.75 \\\\\n",
       "\t N61311  & 126.00 \\\\\n",
       "\\end{tabular}\n"
      ],
      "text/markdown": [
       "\n",
       "| Cell_type | mean |\n",
       "|---|---|\n",
       "| N052611 | 113.25  |\n",
       "| N061011 | 112.50  |\n",
       "| N080611 | 119.75  |\n",
       "| N61311  | 126.00  |\n",
       "\n"
      ],
      "text/plain": [
       "  Cell_type mean  \n",
       "1 N052611   113.25\n",
       "2 N061011   112.50\n",
       "3 N080611   119.75\n",
       "4 N61311    126.00"
      ]
     },
     "metadata": {},
     "output_type": "display_data"
    }
   ],
   "source": [
    "metadata %>% \n",
    "    group_by(Cell_type) %>%\n",
    "    summarise(mean = mean(avgLength, na.rm = TRUE))"
   ]
  },
  {
   "cell_type": "markdown",
   "metadata": {},
   "source": [
    "<b> Plot the average length by treatment type or average length by cell type"
   ]
  },
  {
   "cell_type": "code",
   "execution_count": 6,
   "metadata": {
    "scrolled": false
   },
   "outputs": [
    {
     "data": {
      "image/png": "[encoded data removed]",
      "text/plain": [
       "plot without title"
      ]
     },
     "metadata": {},
     "output_type": "display_data"
    }
   ],
   "source": [
    "options(repr.plot.width=7,repr.plot.height=3)\n",
    "theme_update(plot.title = element_text(hjust = 0.5,size=8))\n",
    "p1 = ggplot(data = metadata, aes(x = Treatment , y = avgLength))+geom_jitter(width = .5,height = 0,size = 1,aes(colour = Treatment))+ggtitle('Average length by treatment type')\n",
    "p2 = ggplot(data = metadata, aes(x = Cell_type , y = avgLength))+geom_jitter(width = .5,height = 0,size = 1,aes(colour = Cell_type))+ggtitle('Average length by cell type')\n",
    "grid.arrange(p1, p2, nrow = 1, top = textGrob('Average length by treatment type and cell type',gp=gpar(fontsize=20,font=1)))"
   ]
  },
  {
   "cell_type": "markdown",
   "metadata": {},
   "source": [
    "# (d)."
   ]
  },
  {
   "cell_type": "code",
   "execution_count": 23,
   "metadata": {
    "scrolled": false
   },
   "outputs": [
    {
     "data": {
      "text/html": [
       "<ol class=list-inline>\n",
       "\t<li>309552</li>\n",
       "\t<li>9</li>\n",
       "</ol>\n"
      ],
      "text/latex": [
       "\\begin{enumerate*}\n",
       "\\item 309552\n",
       "\\item 9\n",
       "\\end{enumerate*}\n"
      ],
      "text/markdown": [
       "1. 309552\n",
       "2. 9\n",
       "\n",
       "\n"
      ],
      "text/plain": [
       "[1] 309552      9"
      ]
     },
     "metadata": {},
     "output_type": "display_data"
    },
    {
     "data": {
      "text/html": [
       "<table>\n",
       "<thead><tr><th scope=col>ensgene</th><th scope=col>Run</th><th scope=col>value</th><th scope=col>avgLength</th><th scope=col>Experiment</th><th scope=col>BioSample</th><th scope=col>sample</th><th scope=col>Treatment</th><th scope=col>Cell_type</th></tr></thead>\n",
       "<tbody>\n",
       "\t<tr><td>ENSG00000000003</td><td>SRR1039508     </td><td> 723           </td><td>126            </td><td>SRX384345      </td><td>SAMN02422669   </td><td>GSM1275862     </td><td>Untreated      </td><td>N61311         </td></tr>\n",
       "\t<tr><td>ENSG00000000003</td><td>SRR1039509     </td><td> 486           </td><td>126            </td><td>SRX384346      </td><td>SAMN02422675   </td><td>GSM1275863     </td><td>Dexamethasone  </td><td>N61311         </td></tr>\n",
       "\t<tr><td>ENSG00000000003</td><td>SRR1039512     </td><td> 904           </td><td>126            </td><td>SRX384349      </td><td>SAMN02422678   </td><td>GSM1275866     </td><td>Untreated      </td><td>N052611        </td></tr>\n",
       "\t<tr><td>ENSG00000000003</td><td>SRR1039513     </td><td> 445           </td><td> 87            </td><td>SRX384350      </td><td>SAMN02422670   </td><td>GSM1275867     </td><td>Dexamethasone  </td><td>N052611        </td></tr>\n",
       "\t<tr><td>ENSG00000000003</td><td>SRR1039516     </td><td>1170           </td><td>120            </td><td>SRX384353      </td><td>SAMN02422682   </td><td>GSM1275870     </td><td>Untreated      </td><td>N080611        </td></tr>\n",
       "\t<tr><td>ENSG00000000003</td><td>SRR1039517     </td><td>1097           </td><td>126            </td><td>SRX384354      </td><td>SAMN02422673   </td><td>GSM1275871     </td><td>Dexamethasone  </td><td>N080611        </td></tr>\n",
       "\t<tr><td>ENSG00000000003</td><td>SRR1039520     </td><td> 806           </td><td>101            </td><td>SRX384357      </td><td>SAMN02422683   </td><td>GSM1275874     </td><td>Untreated      </td><td>N061011        </td></tr>\n",
       "\t<tr><td>ENSG00000000003</td><td>SRR1039521     </td><td> 604           </td><td> 98            </td><td>SRX384358      </td><td>SAMN02422677   </td><td>GSM1275875     </td><td>Dexamethasone  </td><td>N061011        </td></tr>\n",
       "\t<tr><td>ENSG00000000005</td><td>SRR1039508     </td><td>   0           </td><td>126            </td><td>SRX384345      </td><td>SAMN02422669   </td><td>GSM1275862     </td><td>Untreated      </td><td>N61311         </td></tr>\n",
       "\t<tr><td>ENSG00000000005</td><td>SRR1039509     </td><td>   0           </td><td>126            </td><td>SRX384346      </td><td>SAMN02422675   </td><td>GSM1275863     </td><td>Dexamethasone  </td><td>N61311         </td></tr>\n",
       "</tbody>\n",
       "</table>\n"
      ],
      "text/latex": [
       "\\begin{tabular}{r|lllllllll}\n",
       " ensgene & Run & value & avgLength & Experiment & BioSample & sample & Treatment & Cell\\_type\\\\\n",
       "\\hline\n",
       "\t ENSG00000000003 & SRR1039508      &  723            & 126             & SRX384345       & SAMN02422669    & GSM1275862      & Untreated       & N61311         \\\\\n",
       "\t ENSG00000000003 & SRR1039509      &  486            & 126             & SRX384346       & SAMN02422675    & GSM1275863      & Dexamethasone   & N61311         \\\\\n",
       "\t ENSG00000000003 & SRR1039512      &  904            & 126             & SRX384349       & SAMN02422678    & GSM1275866      & Untreated       & N052611        \\\\\n",
       "\t ENSG00000000003 & SRR1039513      &  445            &  87             & SRX384350       & SAMN02422670    & GSM1275867      & Dexamethasone   & N052611        \\\\\n",
       "\t ENSG00000000003 & SRR1039516      & 1170            & 120             & SRX384353       & SAMN02422682    & GSM1275870      & Untreated       & N080611        \\\\\n",
       "\t ENSG00000000003 & SRR1039517      & 1097            & 126             & SRX384354       & SAMN02422673    & GSM1275871      & Dexamethasone   & N080611        \\\\\n",
       "\t ENSG00000000003 & SRR1039520      &  806            & 101             & SRX384357       & SAMN02422683    & GSM1275874      & Untreated       & N061011        \\\\\n",
       "\t ENSG00000000003 & SRR1039521      &  604            &  98             & SRX384358       & SAMN02422677    & GSM1275875      & Dexamethasone   & N061011        \\\\\n",
       "\t ENSG00000000005 & SRR1039508      &    0            & 126             & SRX384345       & SAMN02422669    & GSM1275862      & Untreated       & N61311         \\\\\n",
       "\t ENSG00000000005 & SRR1039509      &    0            & 126             & SRX384346       & SAMN02422675    & GSM1275863      & Dexamethasone   & N61311         \\\\\n",
       "\\end{tabular}\n"
      ],
      "text/markdown": [
       "\n",
       "| ensgene | Run | value | avgLength | Experiment | BioSample | sample | Treatment | Cell_type |\n",
       "|---|---|---|---|---|---|---|---|---|\n",
       "| ENSG00000000003 | SRR1039508      |  723            | 126             | SRX384345       | SAMN02422669    | GSM1275862      | Untreated       | N61311          |\n",
       "| ENSG00000000003 | SRR1039509      |  486            | 126             | SRX384346       | SAMN02422675    | GSM1275863      | Dexamethasone   | N61311          |\n",
       "| ENSG00000000003 | SRR1039512      |  904            | 126             | SRX384349       | SAMN02422678    | GSM1275866      | Untreated       | N052611         |\n",
       "| ENSG00000000003 | SRR1039513      |  445            |  87             | SRX384350       | SAMN02422670    | GSM1275867      | Dexamethasone   | N052611         |\n",
       "| ENSG00000000003 | SRR1039516      | 1170            | 120             | SRX384353       | SAMN02422682    | GSM1275870      | Untreated       | N080611         |\n",
       "| ENSG00000000003 | SRR1039517      | 1097            | 126             | SRX384354       | SAMN02422673    | GSM1275871      | Dexamethasone   | N080611         |\n",
       "| ENSG00000000003 | SRR1039520      |  806            | 101             | SRX384357       | SAMN02422683    | GSM1275874      | Untreated       | N061011         |\n",
       "| ENSG00000000003 | SRR1039521      |  604            |  98             | SRX384358       | SAMN02422677    | GSM1275875      | Dexamethasone   | N061011         |\n",
       "| ENSG00000000005 | SRR1039508      |    0            | 126             | SRX384345       | SAMN02422669    | GSM1275862      | Untreated       | N61311          |\n",
       "| ENSG00000000005 | SRR1039509      |    0            | 126             | SRX384346       | SAMN02422675    | GSM1275863      | Dexamethasone   | N61311          |\n",
       "\n"
      ],
      "text/plain": [
       "   ensgene         Run        value avgLength Experiment BioSample   \n",
       "1  ENSG00000000003 SRR1039508  723  126       SRX384345  SAMN02422669\n",
       "2  ENSG00000000003 SRR1039509  486  126       SRX384346  SAMN02422675\n",
       "3  ENSG00000000003 SRR1039512  904  126       SRX384349  SAMN02422678\n",
       "4  ENSG00000000003 SRR1039513  445   87       SRX384350  SAMN02422670\n",
       "5  ENSG00000000003 SRR1039516 1170  120       SRX384353  SAMN02422682\n",
       "6  ENSG00000000003 SRR1039517 1097  126       SRX384354  SAMN02422673\n",
       "7  ENSG00000000003 SRR1039520  806  101       SRX384357  SAMN02422683\n",
       "8  ENSG00000000003 SRR1039521  604   98       SRX384358  SAMN02422677\n",
       "9  ENSG00000000005 SRR1039508    0  126       SRX384345  SAMN02422669\n",
       "10 ENSG00000000005 SRR1039509    0  126       SRX384346  SAMN02422675\n",
       "   sample     Treatment     Cell_type\n",
       "1  GSM1275862 Untreated     N61311   \n",
       "2  GSM1275863 Dexamethasone N61311   \n",
       "3  GSM1275866 Untreated     N052611  \n",
       "4  GSM1275867 Dexamethasone N052611  \n",
       "5  GSM1275870 Untreated     N080611  \n",
       "6  GSM1275871 Dexamethasone N080611  \n",
       "7  GSM1275874 Untreated     N061011  \n",
       "8  GSM1275875 Dexamethasone N061011  \n",
       "9  GSM1275862 Untreated     N61311   \n",
       "10 GSM1275863 Dexamethasone N61311   "
      ]
     },
     "metadata": {},
     "output_type": "display_data"
    }
   ],
   "source": [
    "mnc <- count %>%\n",
    "    pivot_longer(\n",
    "    cols = -ensgene,\n",
    "    names_to = 'Run'\n",
    "    ) %>%\n",
    "left_join(metadata, by = 'Run')\n",
    "dim(mnc)\n",
    "mnc[1:10,]"
   ]
  },
  {
   "cell_type": "markdown",
   "metadata": {},
   "source": [
    "# (e)."
   ]
  },
  {
   "cell_type": "markdown",
   "metadata": {},
   "source": [
    "Using a side-by-side box plot, visually inspect if there is a difference in mean (or median)\n",
    "expression between different treatments? Make sure you add a legend. If working\n",
    "with counts directly is not informative, use an appropriate transformation. What do you\n",
    "conclude? You may add your conclusion as a comment in your .R file."
   ]
  },
  {
   "cell_type": "code",
   "execution_count": 8,
   "metadata": {
    "scrolled": false
   },
   "outputs": [
    {
     "data": {
      "image/png": "[encoded data removed]",
      "text/plain": [
       "plot without title"
      ]
     },
     "metadata": {},
     "output_type": "display_data"
    }
   ],
   "source": [
    "bp1 = ggplot(data = mnc)\n",
    "bp1 + geom_boxplot(aes(y = value, x = Treatment, fill = Treatment))"
   ]
  },
  {
   "cell_type": "markdown",
   "metadata": {},
   "source": [
    "Working with counts directly is not informative, try log transformation"
   ]
  },
  {
   "cell_type": "code",
   "execution_count": 9,
   "metadata": {
    "scrolled": false
   },
   "outputs": [
    {
     "data": {
      "image/png": "[encoded data removed]",
      "text/plain": [
       "plot without title"
      ]
     },
     "metadata": {},
     "output_type": "display_data"
    }
   ],
   "source": [
    "ndf<-data.frame(mnc,log_count=log2(mnc$value+1))\n",
    "bp1_l = ggplot(data = ndf)\n",
    "bp1_l + geom_boxplot(aes(y = log_count, x = Treatment, fill = Treatment))"
   ]
  },
  {
   "cell_type": "markdown",
   "metadata": {},
   "source": [
    "**Conclusion**: there is no difference between different treatment"
   ]
  },
  {
   "cell_type": "markdown",
   "metadata": {},
   "source": [
    "# (f)."
   ]
  },
  {
   "cell_type": "markdown",
   "metadata": {},
   "source": [
    "Using a side-by-side box plot, visually inspect if there is a difference in mean (or median)\n",
    "expression between different cell types? Make sure you add a legend. If working\n",
    "with counts directly is not informative, use an appropriate transformation. What do you\n",
    "conclude? You may add your conclusion as a comment in your .R file."
   ]
  },
  {
   "cell_type": "code",
   "execution_count": 10,
   "metadata": {
    "scrolled": false
   },
   "outputs": [
    {
     "data": {
      "image/png": "[encoded data removed]",
      "text/plain": [
       "plot without title"
      ]
     },
     "metadata": {},
     "output_type": "display_data"
    }
   ],
   "source": [
    "bp2 = ggplot(data = mnc)\n",
    "bp2 + geom_boxplot(aes(y = value, x = Cell_type, fill = Treatment))"
   ]
  },
  {
   "cell_type": "markdown",
   "metadata": {},
   "source": [
    "Working with counts directly is not informative, try log transformation"
   ]
  },
  {
   "cell_type": "code",
   "execution_count": 11,
   "metadata": {},
   "outputs": [
    {
     "data": {
      "image/png": "[encoded data removed]",
      "text/plain": [
       "plot without title"
      ]
     },
     "metadata": {},
     "output_type": "display_data"
    }
   ],
   "source": [
    "bp2_l = ggplot(data = ndf)\n",
    "bp2_l + geom_boxplot(aes(y = log_count, x = Cell_type, fill = Cell_type))"
   ]
  },
  {
   "cell_type": "markdown",
   "metadata": {},
   "source": [
    "**Conclusion**: there is no difference between different cell type"
   ]
  },
  {
   "cell_type": "markdown",
   "metadata": {},
   "source": [
    "# (g)."
   ]
  },
  {
   "cell_type": "markdown",
   "metadata": {},
   "source": [
    "Using a side-by-side box plot, visually inspect if there is a difference in mean (or median)\n",
    "expression between different treatment types within cell types? Make sure you\n",
    "add a legend. If working with counts directly is not informative, use an appropriate\n",
    "transformation. What do you conclude? You may add your conclusion as a comment\n",
    "in your .R file."
   ]
  },
  {
   "cell_type": "code",
   "execution_count": 12,
   "metadata": {},
   "outputs": [
    {
     "data": {
      "image/png": "[encoded data removed]",
      "text/plain": [
       "plot without title"
      ]
     },
     "metadata": {},
     "output_type": "display_data"
    }
   ],
   "source": [
    "bp3 = ggplot(data = mnc)\n",
    "bp3 + geom_boxplot(aes(y = value, x = Cell_type, fill = Treatment))"
   ]
  },
  {
   "cell_type": "markdown",
   "metadata": {},
   "source": [
    "Working with counts directly is not informative, try log transformation"
   ]
  },
  {
   "cell_type": "code",
   "execution_count": 13,
   "metadata": {
    "scrolled": false
   },
   "outputs": [
    {
     "data": {
      "image/png": "[encoded data removed]",
      "text/plain": [
       "plot without title"
      ]
     },
     "metadata": {},
     "output_type": "display_data"
    }
   ],
   "source": [
    "bp3_l = ggplot(data = ndf)\n",
    "bp3_l + geom_boxplot(aes(y = log_count, x = Cell_type, fill = Treatment))"
   ]
  },
  {
   "cell_type": "markdown",
   "metadata": {},
   "source": [
    "**Conclusion:** Within cell type **N052611**, there is difference between two treatment."
   ]
  },
  {
   "cell_type": "markdown",
   "metadata": {},
   "source": [
    "# (h)."
   ]
  },
  {
   "cell_type": "markdown",
   "metadata": {},
   "source": [
    "Extract the expression profile of gene ”ENSG00000064607” and plot it against the\n",
    "samples in x-axis. Add different symbols and/or colors to identify which expressions\n",
    "are from which treatment type."
   ]
  },
  {
   "cell_type": "code",
   "execution_count": 14,
   "metadata": {},
   "outputs": [
    {
     "data": {
      "text/html": [
       "<table>\n",
       "<thead><tr><th></th><th scope=col>ensgene</th><th scope=col>Run</th><th scope=col>value</th><th scope=col>avgLength</th><th scope=col>Experiment</th><th scope=col>BioSample</th><th scope=col>sample</th><th scope=col>Treatment</th><th scope=col>Cell_type</th><th scope=col>log_count</th></tr></thead>\n",
       "<tbody>\n",
       "\t<tr><th scope=row>7113</th><td>ENSG00000064607</td><td>SRR1039508     </td><td>1732           </td><td>126            </td><td>SRX384345      </td><td>SAMN02422669   </td><td>GSM1275862     </td><td>Untreated      </td><td>N61311         </td><td>10.759056      </td></tr>\n",
       "\t<tr><th scope=row>7114</th><td>ENSG00000064607</td><td>SRR1039509     </td><td>1587           </td><td>126            </td><td>SRX384346      </td><td>SAMN02422675   </td><td>GSM1275863     </td><td>Dexamethasone  </td><td>N61311         </td><td>10.632995      </td></tr>\n",
       "\t<tr><th scope=row>7115</th><td>ENSG00000064607</td><td>SRR1039512     </td><td>2052           </td><td>126            </td><td>SRX384349      </td><td>SAMN02422678   </td><td>GSM1275866     </td><td>Untreated      </td><td>N052611        </td><td>11.003518      </td></tr>\n",
       "\t<tr><th scope=row>7116</th><td>ENSG00000064607</td><td>SRR1039513     </td><td>1012           </td><td> 87            </td><td>SRX384350      </td><td>SAMN02422670   </td><td>GSM1275867     </td><td>Dexamethasone  </td><td>N052611        </td><td> 9.984418      </td></tr>\n",
       "\t<tr><th scope=row>7117</th><td>ENSG00000064607</td><td>SRR1039516     </td><td>1810           </td><td>120            </td><td>SRX384353      </td><td>SAMN02422682   </td><td>GSM1275870     </td><td>Untreated      </td><td>N080611        </td><td>10.822571      </td></tr>\n",
       "\t<tr><th scope=row>7118</th><td>ENSG00000064607</td><td>SRR1039517     </td><td>2071           </td><td>126            </td><td>SRX384354      </td><td>SAMN02422673   </td><td>GSM1275871     </td><td>Dexamethasone  </td><td>N080611        </td><td>11.016808      </td></tr>\n",
       "\t<tr><th scope=row>7119</th><td>ENSG00000064607</td><td>SRR1039520     </td><td>1405           </td><td>101            </td><td>SRX384357      </td><td>SAMN02422683   </td><td>GSM1275874     </td><td>Untreated      </td><td>N061011        </td><td>10.457381      </td></tr>\n",
       "\t<tr><th scope=row>7120</th><td>ENSG00000064607</td><td>SRR1039521     </td><td>1260           </td><td> 98            </td><td>SRX384358      </td><td>SAMN02422677   </td><td>GSM1275875     </td><td>Dexamethasone  </td><td>N061011        </td><td>10.300353      </td></tr>\n",
       "</tbody>\n",
       "</table>\n"
      ],
      "text/latex": [
       "\\begin{tabular}{r|llllllllll}\n",
       "  & ensgene & Run & value & avgLength & Experiment & BioSample & sample & Treatment & Cell\\_type & log\\_count\\\\\n",
       "\\hline\n",
       "\t7113 & ENSG00000064607 & SRR1039508      & 1732            & 126             & SRX384345       & SAMN02422669    & GSM1275862      & Untreated       & N61311          & 10.759056      \\\\\n",
       "\t7114 & ENSG00000064607 & SRR1039509      & 1587            & 126             & SRX384346       & SAMN02422675    & GSM1275863      & Dexamethasone   & N61311          & 10.632995      \\\\\n",
       "\t7115 & ENSG00000064607 & SRR1039512      & 2052            & 126             & SRX384349       & SAMN02422678    & GSM1275866      & Untreated       & N052611         & 11.003518      \\\\\n",
       "\t7116 & ENSG00000064607 & SRR1039513      & 1012            &  87             & SRX384350       & SAMN02422670    & GSM1275867      & Dexamethasone   & N052611         &  9.984418      \\\\\n",
       "\t7117 & ENSG00000064607 & SRR1039516      & 1810            & 120             & SRX384353       & SAMN02422682    & GSM1275870      & Untreated       & N080611         & 10.822571      \\\\\n",
       "\t7118 & ENSG00000064607 & SRR1039517      & 2071            & 126             & SRX384354       & SAMN02422673    & GSM1275871      & Dexamethasone   & N080611         & 11.016808      \\\\\n",
       "\t7119 & ENSG00000064607 & SRR1039520      & 1405            & 101             & SRX384357       & SAMN02422683    & GSM1275874      & Untreated       & N061011         & 10.457381      \\\\\n",
       "\t7120 & ENSG00000064607 & SRR1039521      & 1260            &  98             & SRX384358       & SAMN02422677    & GSM1275875      & Dexamethasone   & N061011         & 10.300353      \\\\\n",
       "\\end{tabular}\n"
      ],
      "text/markdown": [
       "\n",
       "| <!--/--> | ensgene | Run | value | avgLength | Experiment | BioSample | sample | Treatment | Cell_type | log_count |\n",
       "|---|---|---|---|---|---|---|---|---|---|---|\n",
       "| 7113 | ENSG00000064607 | SRR1039508      | 1732            | 126             | SRX384345       | SAMN02422669    | GSM1275862      | Untreated       | N61311          | 10.759056       |\n",
       "| 7114 | ENSG00000064607 | SRR1039509      | 1587            | 126             | SRX384346       | SAMN02422675    | GSM1275863      | Dexamethasone   | N61311          | 10.632995       |\n",
       "| 7115 | ENSG00000064607 | SRR1039512      | 2052            | 126             | SRX384349       | SAMN02422678    | GSM1275866      | Untreated       | N052611         | 11.003518       |\n",
       "| 7116 | ENSG00000064607 | SRR1039513      | 1012            |  87             | SRX384350       | SAMN02422670    | GSM1275867      | Dexamethasone   | N052611         |  9.984418       |\n",
       "| 7117 | ENSG00000064607 | SRR1039516      | 1810            | 120             | SRX384353       | SAMN02422682    | GSM1275870      | Untreated       | N080611         | 10.822571       |\n",
       "| 7118 | ENSG00000064607 | SRR1039517      | 2071            | 126             | SRX384354       | SAMN02422673    | GSM1275871      | Dexamethasone   | N080611         | 11.016808       |\n",
       "| 7119 | ENSG00000064607 | SRR1039520      | 1405            | 101             | SRX384357       | SAMN02422683    | GSM1275874      | Untreated       | N061011         | 10.457381       |\n",
       "| 7120 | ENSG00000064607 | SRR1039521      | 1260            |  98             | SRX384358       | SAMN02422677    | GSM1275875      | Dexamethasone   | N061011         | 10.300353       |\n",
       "\n"
      ],
      "text/plain": [
       "     ensgene         Run        value avgLength Experiment BioSample   \n",
       "7113 ENSG00000064607 SRR1039508 1732  126       SRX384345  SAMN02422669\n",
       "7114 ENSG00000064607 SRR1039509 1587  126       SRX384346  SAMN02422675\n",
       "7115 ENSG00000064607 SRR1039512 2052  126       SRX384349  SAMN02422678\n",
       "7116 ENSG00000064607 SRR1039513 1012   87       SRX384350  SAMN02422670\n",
       "7117 ENSG00000064607 SRR1039516 1810  120       SRX384353  SAMN02422682\n",
       "7118 ENSG00000064607 SRR1039517 2071  126       SRX384354  SAMN02422673\n",
       "7119 ENSG00000064607 SRR1039520 1405  101       SRX384357  SAMN02422683\n",
       "7120 ENSG00000064607 SRR1039521 1260   98       SRX384358  SAMN02422677\n",
       "     sample     Treatment     Cell_type log_count\n",
       "7113 GSM1275862 Untreated     N61311    10.759056\n",
       "7114 GSM1275863 Dexamethasone N61311    10.632995\n",
       "7115 GSM1275866 Untreated     N052611   11.003518\n",
       "7116 GSM1275867 Dexamethasone N052611    9.984418\n",
       "7117 GSM1275870 Untreated     N080611   10.822571\n",
       "7118 GSM1275871 Dexamethasone N080611   11.016808\n",
       "7119 GSM1275874 Untreated     N061011   10.457381\n",
       "7120 GSM1275875 Dexamethasone N061011   10.300353"
      ]
     },
     "metadata": {},
     "output_type": "display_data"
    },
    {
     "data": {
      "image/png": "[encoded data removed]",
      "text/plain": [
       "plot without title"
      ]
     },
     "metadata": {},
     "output_type": "display_data"
    }
   ],
   "source": [
    "ext_gene = ndf[which(ndf$ensgene=='ENSG00000064607'),]\n",
    "ext_gene\n",
    "options(repr.plot.width=12,repr.plot.height=3)\n",
    "theme_update(plot.title = element_text(hjust = 0.5,size=12))\n",
    "ggplot(data = ext_gene,aes(x = sample, y = 0, col = Treatment))+geom_jitter(size = 5,width = 0, height = 0)+ggtitle('Expression profile of gene ENSG00000064607  against the samples')+theme(axis.title.y=element_blank(),axis.text.y=element_blank(),axis.ticks.y=element_blank())"
   ]
  },
  {
   "cell_type": "markdown",
   "metadata": {},
   "source": [
    "# 2"
   ]
  },
  {
   "cell_type": "markdown",
   "metadata": {},
   "source": [
    "# (a)."
   ]
  },
  {
   "cell_type": "markdown",
   "metadata": {},
   "source": [
    "Write R code that will give you the position of the start codon that codes for “Met”\n",
    "(Methionine)."
   ]
  },
  {
   "cell_type": "code",
   "execution_count": 15,
   "metadata": {},
   "outputs": [
    {
     "data": {
      "text/html": [
       "'AGCCCUCCAGGACAGGCUGCAUCAGAAGAGGCCAUCAAGCAGAUCACUGUCCUUCUGCCAUGGCCCUGUGGAUGCGCCUCCUGCCCCUGCUGGCGCUGCUGGCCCUCUGGGGACCUGACCCAGCCGCAGCCUUUGUGAACCAACACCUGUGCGGCUCACACCUGGUGGAAGCUCUCUACCUAGUGUGCGGGGAACGAGGCUUCUUCUACACACCCAAGACCCGCCGGGAGGCAGAGGACCUGCAGGUGGGGCAGGUGGAGCUGGGCGGGGGCCCUGGUGCAGGCAGCCUGCAGCCCUUGGCCCUGGAGGGGUCCCUGCAGAAGCGUGGCAUUGUGGAACAAUGCUGUACCAGCAUCUGCUCCCUCUACCAGCUGGAGAACUACUGCAACUAGACGCAGCCCGCAGGCAGCCCCCCACCCGCCGCCUCCUGCACCGAGAGAGAUGGAAUAAAGCCCUUGAACCAACAAAAAAAAAAAAAAAAAAAAAAAAAAAAAA'"
      ],
      "text/latex": [
       "'AGCCCUCCAGGACAGGCUGCAUCAGAAGAGGCCAUCAAGCAGAUCACUGUCCUUCUGCCAUGGCCCUGUGGAUGCGCCUCCUGCCCCUGCUGGCGCUGCUGGCCCUCUGGGGACCUGACCCAGCCGCAGCCUUUGUGAACCAACACCUGUGCGGCUCACACCUGGUGGAAGCUCUCUACCUAGUGUGCGGGGAACGAGGCUUCUUCUACACACCCAAGACCCGCCGGGAGGCAGAGGACCUGCAGGUGGGGCAGGUGGAGCUGGGCGGGGGCCCUGGUGCAGGCAGCCUGCAGCCCUUGGCCCUGGAGGGGUCCCUGCAGAAGCGUGGCAUUGUGGAACAAUGCUGUACCAGCAUCUGCUCCCUCUACCAGCUGGAGAACUACUGCAACUAGACGCAGCCCGCAGGCAGCCCCCCACCCGCCGCCUCCUGCACCGAGAGAGAUGGAAUAAAGCCCUUGAACCAACAAAAAAAAAAAAAAAAAAAAAAAAAAAAAA'"
      ],
      "text/markdown": [
       "'AGCCCUCCAGGACAGGCUGCAUCAGAAGAGGCCAUCAAGCAGAUCACUGUCCUUCUGCCAUGGCCCUGUGGAUGCGCCUCCUGCCCCUGCUGGCGCUGCUGGCCCUCUGGGGACCUGACCCAGCCGCAGCCUUUGUGAACCAACACCUGUGCGGCUCACACCUGGUGGAAGCUCUCUACCUAGUGUGCGGGGAACGAGGCUUCUUCUACACACCCAAGACCCGCCGGGAGGCAGAGGACCUGCAGGUGGGGCAGGUGGAGCUGGGCGGGGGCCCUGGUGCAGGCAGCCUGCAGCCCUUGGCCCUGGAGGGGUCCCUGCAGAAGCGUGGCAUUGUGGAACAAUGCUGUACCAGCAUCUGCUCCCUCUACCAGCUGGAGAACUACUGCAACUAGACGCAGCCCGCAGGCAGCCCCCCACCCGCCGCCUCCUGCACCGAGAGAGAUGGAAUAAAGCCCUUGAACCAACAAAAAAAAAAAAAAAAAAAAAAAAAAAAAA'"
      ],
      "text/plain": [
       "[1] \"AGCCCUCCAGGACAGGCUGCAUCAGAAGAGGCCAUCAAGCAGAUCACUGUCCUUCUGCCAUGGCCCUGUGGAUGCGCCUCCUGCCCCUGCUGGCGCUGCUGGCCCUCUGGGGACCUGACCCAGCCGCAGCCUUUGUGAACCAACACCUGUGCGGCUCACACCUGGUGGAAGCUCUCUACCUAGUGUGCGGGGAACGAGGCUUCUUCUACACACCCAAGACCCGCCGGGAGGCAGAGGACCUGCAGGUGGGGCAGGUGGAGCUGGGCGGGGGCCCUGGUGCAGGCAGCCUGCAGCCCUUGGCCCUGGAGGGGUCCCUGCAGAAGCGUGGCAUUGUGGAACAAUGCUGUACCAGCAUCUGCUCCCUCUACCAGCUGGAGAACUACUGCAACUAGACGCAGCCCGCAGGCAGCCCCCCACCCGCCGCCUCCUGCACCGAGAGAGAUGGAAUAAAGCCCUUGAACCAACAAAAAAAAAAAAAAAAAAAAAAAAAAAAAA\""
      ]
     },
     "metadata": {},
     "output_type": "display_data"
    },
    {
     "data": {
      "text/html": [
       "<ol>\n",
       "\t<li><table>\n",
       "<thead><tr><th scope=col>start</th><th scope=col>end</th></tr></thead>\n",
       "<tbody>\n",
       "\t<tr><td> 60</td><td> 62</td></tr>\n",
       "\t<tr><td> 72</td><td> 74</td></tr>\n",
       "\t<tr><td>341</td><td>343</td></tr>\n",
       "\t<tr><td>442</td><td>444</td></tr>\n",
       "</tbody>\n",
       "</table>\n",
       "</li>\n",
       "</ol>\n"
      ],
      "text/latex": [
       "\\begin{enumerate}\n",
       "\\item \\begin{tabular}{ll}\n",
       " start & end\\\\\n",
       "\\hline\n",
       "\t  60 &  62\\\\\n",
       "\t  72 &  74\\\\\n",
       "\t 341 & 343\\\\\n",
       "\t 442 & 444\\\\\n",
       "\\end{tabular}\n",
       "\n",
       "\\end{enumerate}\n"
      ],
      "text/markdown": [
       "1. \n",
       "| start | end |\n",
       "|---|---|\n",
       "|  60 |  62 |\n",
       "|  72 |  74 |\n",
       "| 341 | 343 |\n",
       "| 442 | 444 |\n",
       "\n",
       "\n",
       "\n",
       "\n"
      ],
      "text/plain": [
       "[[1]]\n",
       "     start end\n",
       "[1,]    60  62\n",
       "[2,]    72  74\n",
       "[3,]   341 343\n",
       "[4,]   442 444\n"
      ]
     },
     "metadata": {},
     "output_type": "display_data"
    }
   ],
   "source": [
    "mRNA_first<-read.csv(\"mRNA.csv\")\n",
    "(mRNA<-toString(mRNA_first[[1]]))\n",
    "str_locate_all(mRNA,\"AUG\")"
   ]
  },
  {
   "cell_type": "markdown",
   "metadata": {},
   "source": [
    "# (b)."
   ]
  },
  {
   "cell_type": "markdown",
   "metadata": {},
   "source": [
    "Write R code that will give you the position of the all possible stop codons."
   ]
  },
  {
   "cell_type": "code",
   "execution_count": 16,
   "metadata": {},
   "outputs": [
    {
     "data": {
      "text/html": [
       "<ol>\n",
       "\t<li><table>\n",
       "<thead><tr><th scope=col>start</th><th scope=col>end</th></tr></thead>\n",
       "<tbody>\n",
       "\t<tr><td>116</td><td>118</td></tr>\n",
       "\t<tr><td>136</td><td>138</td></tr>\n",
       "\t<tr><td>457</td><td>459</td></tr>\n",
       "</tbody>\n",
       "</table>\n",
       "</li>\n",
       "\t<li><table>\n",
       "<thead><tr><th scope=col>start</th><th scope=col>end</th></tr></thead>\n",
       "<tbody>\n",
       "\t<tr><td>448</td><td>450</td></tr>\n",
       "</tbody>\n",
       "</table>\n",
       "</li>\n",
       "\t<li><table>\n",
       "<thead><tr><th scope=col>start</th><th scope=col>end</th></tr></thead>\n",
       "<tbody>\n",
       "\t<tr><td>181</td><td>183</td></tr>\n",
       "\t<tr><td>390</td><td>392</td></tr>\n",
       "</tbody>\n",
       "</table>\n",
       "</li>\n",
       "</ol>\n"
      ],
      "text/latex": [
       "\\begin{enumerate}\n",
       "\\item \\begin{tabular}{ll}\n",
       " start & end\\\\\n",
       "\\hline\n",
       "\t 116 & 118\\\\\n",
       "\t 136 & 138\\\\\n",
       "\t 457 & 459\\\\\n",
       "\\end{tabular}\n",
       "\n",
       "\\item \\begin{tabular}{ll}\n",
       " start & end\\\\\n",
       "\\hline\n",
       "\t 448 & 450\\\\\n",
       "\\end{tabular}\n",
       "\n",
       "\\item \\begin{tabular}{ll}\n",
       " start & end\\\\\n",
       "\\hline\n",
       "\t 181 & 183\\\\\n",
       "\t 390 & 392\\\\\n",
       "\\end{tabular}\n",
       "\n",
       "\\end{enumerate}\n"
      ],
      "text/markdown": [
       "1. \n",
       "| start | end |\n",
       "|---|---|\n",
       "| 116 | 118 |\n",
       "| 136 | 138 |\n",
       "| 457 | 459 |\n",
       "\n",
       "\n",
       "2. \n",
       "| start | end |\n",
       "|---|---|\n",
       "| 448 | 450 |\n",
       "\n",
       "\n",
       "3. \n",
       "| start | end |\n",
       "|---|---|\n",
       "| 181 | 183 |\n",
       "| 390 | 392 |\n",
       "\n",
       "\n",
       "\n",
       "\n"
      ],
      "text/plain": [
       "[[1]]\n",
       "     start end\n",
       "[1,]   116 118\n",
       "[2,]   136 138\n",
       "[3,]   457 459\n",
       "\n",
       "[[2]]\n",
       "     start end\n",
       "[1,]   448 450\n",
       "\n",
       "[[3]]\n",
       "     start end\n",
       "[1,]   181 183\n",
       "[2,]   390 392\n"
      ]
     },
     "metadata": {},
     "output_type": "display_data"
    }
   ],
   "source": [
    "str_locate_all(mRNA,c('UGA','UAA','UAG'))"
   ]
  },
  {
   "cell_type": "markdown",
   "metadata": {},
   "source": [
    "# (c)."
   ]
  },
  {
   "cell_type": "markdown",
   "metadata": {},
   "source": [
    "Write R code that extracts the sequence such that it starts with the start codon."
   ]
  },
  {
   "cell_type": "code",
   "execution_count": 17,
   "metadata": {
    "scrolled": false
   },
   "outputs": [
    {
     "name": "stdout",
     "output_type": "stream",
     "text": [
      "[1] \"12\"           \"AUGGCCCUGUGG\"\n",
      "[1] \"270\"                                                                                                                                                                                                                                                                           \n",
      "[2] \"AUGCGCCUCCUGCCCCUGCUGGCGCUGCUGGCCCUCUGGGGACCUGACCCAGCCGCAGCCUUUGUGAACCAACACCUGUGCGGCUCACACCUGGUGGAAGCUCUCUACCUAGUGUGCGGGGAACGAGGCUUCUUCUACACACCCAAGACCCGCCGGGAGGCAGAGGACCUGCAGGUGGGGCAGGUGGAGCUGGGCGGGGGCCCUGGUGCAGGCAGCCUGCAGCCCUUGGCCCUGGAGGGGUCCCUGCAGAAGCGUGGCAUUGUGGAACAA\"\n",
      "[1] \"102\"                                                                                                   \n",
      "[2] \"AUGCUGUACCAGCAUCUGCUCCCUCUACCAGCUGGAGAACUACUGCAACUAGACGCAGCCCGCAGGCAGCCCCCCACCCGCCGCCUCCUGCACCGAGAGAGA\"\n",
      "[1] \"54\"                                                    \n",
      "[2] \"AUGGAAUAAAGCCCUUGAACCAACAAAAAAAAAAAAAAAAAAAAAAAAAAAAAA\"\n"
     ]
    }
   ],
   "source": [
    "# first\n",
    "sf = substr(mRNA,(str_locate_all(mRNA,\"AUG\")[[1]][1]),(str_locate_all(mRNA,\"AUG\")[[1]][2])-1)\n",
    "print(c(nchar(sf),sf))\n",
    "#between\n",
    "for (i in 2:(length(str_locate_all(mRNA,\"AUG\")[[1]])/2-1)){\n",
    "    s = substr(mRNA,(str_locate_all(mRNA,\"AUG\")[[1]][i]),(str_locate_all(mRNA,\"AUG\")[[1]][i+1]))\n",
    "    print(c(nchar(s),s))\n",
    "}\n",
    "#last\n",
    "sl = substr(mRNA,(str_locate_all(mRNA,\"AUG\")[[1]][(length(str_locate_all(mRNA,\"AUG\")[[1]])/2)]),length(str_split(mRNA,'')[[1]]))\n",
    "print(c(nchar(sl),sl))"
   ]
  },
  {
   "cell_type": "markdown",
   "metadata": {},
   "source": [
    "# (d)."
   ]
  },
  {
   "cell_type": "markdown",
   "metadata": {},
   "source": [
    "Write a function called genetic code that takes one codon as an input and returns\n",
    "the resulting amino acid."
   ]
  },
  {
   "cell_type": "code",
   "execution_count": 18,
   "metadata": {},
   "outputs": [],
   "source": [
    "genetic_code = function(x){\n",
    "    s0 = ''\n",
    "    for (i in 1:(nchar(x)/3)){\n",
    "        if ((substr(x,3*i-2,3*i)=='UUU')|(substr(x,3*i-2,3*i)=='UUC')){\n",
    "            s0 = str_c(s0,'-Phe')\n",
    "        }\n",
    "        if ((substr(x,3*i-2,3*i)=='UUA')|(substr(x,3*i-2,3*i)=='UUG')|(substr(x,3*i-2,3*i)=='CUU')|(substr(x,3*i-2,3*i)=='CUC')|(substr(x,3*i-2,3*i)=='CUA')|(substr(x,3*i-2,3*i)=='CUG')){\n",
    "            s0 = str_c(s0,'-Leu')\n",
    "        }\n",
    "        if ((substr(x,3*i-2,3*i)=='UCU')|(substr(x,3*i-2,3*i)=='UCC')|(substr(x,3*i-2,3*i)=='UCA')|(substr(x,3*i-2,3*i)=='UCG')|(substr(x,3*i-2,3*i)=='AGU')|(substr(x,3*i-2,3*i)=='AGC')){\n",
    "            s0 = str_c(s0,'-Ser')\n",
    "        }\n",
    "        if ((substr(x,3*i-2,3*i)=='UAU')|(substr(x,3*i-2,3*i)=='UAC')){\n",
    "            s0 = str_c(s0,'-Tyr')\n",
    "        }\n",
    "        if ((substr(x,3*i-2,3*i)=='UGU')|(substr(x,3*i-2,3*i)=='UGC')){\n",
    "            s0 = str_c(s0,'-Cys')\n",
    "        }\n",
    "        if ((substr(x,3*i-2,3*i)=='CCU')|(substr(x,3*i-2,3*i)=='CCC')|(substr(x,3*i-2,3*i)=='CCA')|(substr(x,3*i-2,3*i)=='CCG')){\n",
    "            s0 = str_c(s0,'-Pro')\n",
    "        }\n",
    "        if ((substr(x,3*i-2,3*i)=='CAU')|(substr(x,3*i-2,3*i)=='CAC')){\n",
    "            s0 = str_c(s0,'-His')\n",
    "        }\n",
    "        if ((substr(x,3*i-2,3*i)=='UGG')){\n",
    "            s0 = str_c(s0,'-Trp')\n",
    "        }\n",
    "        if ((substr(x,3*i-2,3*i)=='CAA')|(substr(x,3*i-2,3*i)=='CAG')){\n",
    "            s0 = str_c(s0,'-Gln')\n",
    "        }\n",
    "        if ((substr(x,3*i-2,3*i)=='CGU')|(substr(x,3*i-2,3*i)=='CGC')|(substr(x,3*i-2,3*i)=='CGA')|(substr(x,3*i-2,3*i)=='CGG')|(substr(x,3*i-2,3*i)=='AGA')|(substr(x,3*i-2,3*i)=='AGG')){\n",
    "            s0 = str_c(s0,'-Arg')\n",
    "        }\n",
    "        if ((substr(x,3*i-2,3*i)=='AUU')|(substr(x,3*i-2,3*i)=='AUC')|(substr(x,3*i-2,3*i)=='AUA')){\n",
    "            s0 = str_c(s0,'-Ile')\n",
    "        }\n",
    "        if ((substr(x,3*i-2,3*i)=='AUG')){\n",
    "            s0 = str_c(s0,'-Met')\n",
    "        }\n",
    "        if ((substr(x,3*i-2,3*i)=='ACU')|(substr(x,3*i-2,3*i)=='ACC')|(substr(x,3*i-2,3*i)=='ACA')|(substr(x,3*i-2,3*i)=='ACG')){\n",
    "            s0 = str_c(s0,'-Thr')\n",
    "        }\n",
    "        if ((substr(x,3*i-2,3*i)=='AAU')|(substr(x,3*i-2,3*i)=='AAC')){\n",
    "            s0 = str_c(s0,'-Asn')\n",
    "        }\n",
    "        if ((substr(x,3*i-2,3*i)=='AAA')|(substr(x,3*i-2,3*i)=='AAG')){\n",
    "            s0 = str_c(s0,'-Lys')\n",
    "        }\n",
    "        if ((substr(x,3*i-2,3*i)=='GUU')|(substr(x,3*i-2,3*i)=='GUC')|(substr(x,3*i-2,3*i)=='GUA')|(substr(x,3*i-2,3*i)=='GUG')){\n",
    "            s0 = str_c(s0,'-Val')\n",
    "        }\n",
    "        if ((substr(x,3*i-2,3*i)=='GCU')|(substr(x,3*i-2,3*i)=='GCC')|(substr(x,3*i-2,3*i)=='GCA')|(substr(x,3*i-2,3*i)=='GCG')){\n",
    "            s0 = str_c(s0,'-Ala')\n",
    "        }\n",
    "        if ((substr(x,3*i-2,3*i)=='GGU')|(substr(x,3*i-2,3*i)=='GGC')|(substr(x,3*i-2,3*i)=='GGA')|(substr(x,3*i-2,3*i)=='GGG')){\n",
    "            s0 = str_c(s0,'-Gly')\n",
    "        }\n",
    "        if ((substr(x,3*i-2,3*i)=='GAU')|(substr(x,3*i-2,3*i)=='GAC')){\n",
    "            s0 = str_c(s0,'-Asp')\n",
    "        }\n",
    "        if ((substr(x,3*i-2,3*i)=='GAA')|(substr(x,3*i-2,3*i)=='GAC')){\n",
    "            s0 = str_c(s0,'-Glu')\n",
    "        }\n",
    "        if ((substr(x,3*i-2,3*i)=='UAA')|(substr(x,3*i-2,3*i)=='UAG')|(substr(x,3*i-2,3*i)=='UGA')){\n",
    "            break\n",
    "        }\n",
    "    }\n",
    "    return(substring(s0,2))\n",
    "}"
   ]
  },
  {
   "cell_type": "markdown",
   "metadata": {},
   "source": [
    "# (e)."
   ]
  },
  {
   "cell_type": "markdown",
   "metadata": {},
   "source": [
    "Use this genetic code function, translate your mRNA sequence to a protein sequence\n",
    "such that the amino acids are joined by the character “-”. Your resulting protein sequence\n",
    "should look something like this:\n",
    "“Met-Ala-: : :”"
   ]
  },
  {
   "cell_type": "code",
   "execution_count": 19,
   "metadata": {
    "scrolled": true
   },
   "outputs": [
    {
     "name": "stdout",
     "output_type": "stream",
     "text": [
      "Met-Ala-Leu-Trp\n",
      "Met-Arg-Leu-Leu-Pro-Leu-Leu-Ala-Leu-Leu-Ala-Leu-Trp-Gly-Pro-Asp-Glu-Pro-Ala-Ala-Ala-Phe-Val-Asn-Gln-His-Leu-Cys-Gly-Ser-His-Leu-Val-Glu-Ala-Leu-Tyr-Leu-Val-Cys-Gly-Glu-Arg-Gly-Phe-Phe-Tyr-Thr-Pro-Lys-Thr-Arg-Arg-Ala-Asp-Glu-Leu-Gln-Val-Gly-Gln-Val-Leu-Gly-Gly-Gly-Pro-Gly-Ala-Gly-Ser-Leu-Gln-Pro-Leu-Ala-Leu-Gly-Ser-Leu-Gln-Lys-Arg-Gly-Ile-Val-Glu-Gln\n",
      "Met-Leu-Tyr-Gln-His-Leu-Leu-Pro-Leu-Pro-Ala-Gly-Glu-Leu-Leu-Gln-Leu-Asp-Glu-Ala-Ala-Arg-Arg-Gln-Pro-Pro-Thr-Arg-Arg-Leu-Leu-His-Arg-Arg\n",
      "Met-Glu\n"
     ]
    }
   ],
   "source": [
    "cat(genetic_code(sf),sep=\"\\n\")\n",
    "for (i in 2:(length(str_locate_all(mRNA,\"AUG\")[[1]])/2-1)){\n",
    "    s = substr(mRNA,(str_locate_all(mRNA,\"AUG\")[[1]][i]),(str_locate_all(mRNA,\"AUG\")[[1]][i+1]))\n",
    "    cat(genetic_code(s),sep=\"\\n\")\n",
    "}\n",
    "cat(genetic_code(sl),sep=\"\\n\")"
   ]
  },
  {
   "cell_type": "markdown",
   "metadata": {},
   "source": [
    "# (f)."
   ]
  },
  {
   "cell_type": "markdown",
   "metadata": {},
   "source": [
    "Write R code that prints the length of the resulting protein. Note: stop codon should\n",
    "not code for any amino acid."
   ]
  },
  {
   "cell_type": "code",
   "execution_count": 20,
   "metadata": {},
   "outputs": [
    {
     "name": "stdout",
     "output_type": "stream",
     "text": [
      "[1] \"First one has 4\"\n",
      "[1] \"For Second to the one before last one\"\n",
      "[1] \"2: 88\"\n",
      "[1] \"3: 34\"\n",
      "[1] \"Last one has 2\"\n"
     ]
    }
   ],
   "source": [
    "c = (nchar(genetic_code(sf))+1)/4\n",
    "print(str_c(\"First one has \", c))\n",
    "print(\"For Second to the one before last one\")\n",
    "for (i in 2:(length(str_locate_all(mRNA,\"AUG\")[[1]])/2-1)){\n",
    "    s = substr(mRNA,(str_locate_all(mRNA,\"AUG\")[[1]][i]),(str_locate_all(mRNA,\"AUG\")[[1]][i+1]))\n",
    "    c = (nchar(genetic_code(s))+1)/4\n",
    "    print(str_c(i,\": \",c))\n",
    "}\n",
    "c = (nchar(genetic_code(sl))+1)/4\n",
    "print(str_c(\"Last one has \", c))"
   ]
  }
 ],
 "metadata": {
  "kernelspec": {
   "display_name": "R",
   "language": "R",
   "name": "ir"
  },
  "language_info": {
   "codemirror_mode": "r",
   "file_extension": ".r",
   "mimetype": "text/x-r-source",
   "name": "R",
   "pygments_lexer": "r",
   "version": "3.6.1"
  },
  "latex_envs": {
   "LaTeX_envs_menu_present": true,
   "autoclose": false,
   "autocomplete": true,
   "bibliofile": "biblio.bib",
   "cite_by": "apalike",
   "current_citInitial": 1,
   "eqLabelWithNumbers": true,
   "eqNumInitial": 1,
   "hotkeys": {
    "equation": "Ctrl-E",
    "itemize": "Ctrl-I"
   },
   "labels_anchors": false,
   "latex_user_defs": false,
   "report_style_numbering": false,
   "user_envs_cfg": false
  },
  "toc": {
   "base_numbering": 1,
   "nav_menu": {},
   "number_sections": false,
   "sideBar": true,
   "skip_h1_title": false,
   "title_cell": "Table of Contents",
   "title_sidebar": "Contents",
   "toc_cell": false,
   "toc_position": {
    "height": "calc(100% - 180px)",
    "left": "10px",
    "top": "150px",
    "width": "320px"
   },
   "toc_section_display": true,
   "toc_window_display": true
  }
 },
 "nbformat": 4,
 "nbformat_minor": 2
}
